{
 "cells": [
  {
   "cell_type": "raw",
   "id": "81054546",
   "metadata": {},
   "source": [
    "https://www.ficsgames.org/download.html"
   ]
  },
  {
   "cell_type": "code",
   "execution_count": 435,
   "id": "92d51064",
   "metadata": {},
   "outputs": [],
   "source": [
    "import numpy as np\n",
    "import matplotlib.pyplot as plt\n",
    "from torch import nn\n",
    "import torch\n",
    "import chess.pgn\n",
    "from stockfish import Stockfish\n",
    "import sqlite3"
   ]
  },
  {
   "cell_type": "code",
   "execution_count": 436,
   "id": "7d9eef7b",
   "metadata": {},
   "outputs": [],
   "source": [
    "torch.cuda.set_device(0)\n",
    "device = torch.device('cuda')\n",
    "loss_function = nn.MSELoss()"
   ]
  },
  {
   "cell_type": "code",
   "execution_count": 437,
   "id": "db3e478d",
   "metadata": {},
   "outputs": [],
   "source": [
    "class Model(nn.Module):\n",
    "    def __init__(self):\n",
    "        super().__init__()\n",
    "        self.layers = nn.Sequential(\n",
    "            nn.Linear(768, 2048),\n",
    "            nn.BatchNorm1d(2048),\n",
    "            nn.ReLU(),\n",
    "            nn.Linear(2048, 2048),\n",
    "            nn.BatchNorm1d(2048),\n",
    "            nn.ReLU(),\n",
    "            nn.Linear(2048, 1),\n",
    "        )\n",
    "    def forward(self, x):\n",
    "        return self.layers(x)"
   ]
  },
  {
   "cell_type": "code",
   "execution_count": 438,
   "id": "1f36e11d",
   "metadata": {},
   "outputs": [],
   "source": [
    "def fen_to_bitboard(fen):\n",
    "    bitboard = torch.zeros((12, 64), device=device)\n",
    "    i = 0\n",
    "    if \" b \"in fen:\n",
    "        for letter in fen:\n",
    "            if(letter == \"/\"):\n",
    "                continue;\n",
    "            try:\n",
    "                i += int(letter)\n",
    "            except:\n",
    "                if(letter == \"p\"):\n",
    "                    bitboard[0, i] = 1\n",
    "                if(letter == \"n\"):\n",
    "                    bitboard[1, i] = 1\n",
    "                if(letter == \"r\"):\n",
    "                    bitboard[2, i] = 1\n",
    "                if(letter == \"b\"):\n",
    "                    bitboard[3, i] = 1\n",
    "                if(letter == \"q\"):\n",
    "                    bitboard[4, i] = 1\n",
    "                if(letter == \"k\"):\n",
    "                    bitboard[5, i] = 1\n",
    "\n",
    "                if(letter == \"P\"):\n",
    "                    bitboard[6, i] = -1\n",
    "                if(letter == \"N\"):\n",
    "                    bitboard[7, i] = -1\n",
    "                if(letter == \"R\"):\n",
    "                    bitboard[8, i] = -1\n",
    "                if(letter == \"B\"):\n",
    "                    bitboard[9, i] = -1\n",
    "                if(letter == \"Q\"):\n",
    "                    bitboard[10, i] = -1\n",
    "                if(letter == \"K\"):\n",
    "                    bitboard[11, i] = -1\n",
    "                i += 1\n",
    "            if(i == 64):\n",
    "                break\n",
    "    if \" w \" in fen:\n",
    "        for letter in fen:\n",
    "            if(letter == \"/\"):\n",
    "                continue;\n",
    "            try:\n",
    "                i += int(letter)\n",
    "            except:\n",
    "                if(letter == \"p\"):\n",
    "                    bitboard[0, i] = -1\n",
    "                if(letter == \"n\"):\n",
    "                    bitboard[1, i] = -1\n",
    "                if(letter == \"r\"):\n",
    "                    bitboard[2, i] = -1\n",
    "                if(letter == \"b\"):\n",
    "                    bitboard[3, i] = -1\n",
    "                if(letter == \"q\"):\n",
    "                    bitboard[4, i] = -1\n",
    "                if(letter == \"k\"):\n",
    "                    bitboard[5, i] = -1\n",
    "\n",
    "                if(letter == \"P\"):\n",
    "                    bitboard[6, i] = 1\n",
    "                if(letter == \"N\"):\n",
    "                    bitboard[7, i] = 1\n",
    "                if(letter == \"R\"):\n",
    "                    bitboard[8, i] = 1\n",
    "                if(letter == \"B\"):\n",
    "                    bitboard[9, i] = 1\n",
    "                if(letter == \"Q\"):\n",
    "                    bitboard[10, i] = 1\n",
    "                if(letter == \"K\"):\n",
    "                    bitboard[11, i] = 1\n",
    "                i += 1\n",
    "            if(i == 64):\n",
    "                break\n",
    "    return bitboard.view((1, 768))"
   ]
  },
  {
   "cell_type": "code",
   "execution_count": 439,
   "id": "ac1131f5",
   "metadata": {},
   "outputs": [
    {
     "data": {
      "text/plain": [
       "Model(\n",
       "  (layers): Sequential(\n",
       "    (0): Linear(in_features=768, out_features=2048, bias=True)\n",
       "    (1): BatchNorm1d(2048, eps=1e-05, momentum=0.1, affine=True, track_running_stats=True)\n",
       "    (2): ReLU()\n",
       "    (3): Linear(in_features=2048, out_features=2048, bias=True)\n",
       "    (4): BatchNorm1d(2048, eps=1e-05, momentum=0.1, affine=True, track_running_stats=True)\n",
       "    (5): ReLU()\n",
       "    (6): Linear(in_features=2048, out_features=1, bias=True)\n",
       "  )\n",
       ")"
      ]
     },
     "execution_count": 439,
     "metadata": {},
     "output_type": "execute_result"
    }
   ],
   "source": [
    "model = Model()\n",
    "optimizer = torch.optim.Adam(model.parameters(), lr=1e-4)\n",
    "model.to(device)"
   ]
  },
  {
   "cell_type": "code",
   "execution_count": 440,
   "id": "23b7d3fd",
   "metadata": {
    "scrolled": true
   },
   "outputs": [],
   "source": [
    "con = sqlite3.connect('test.db')\n",
    "cur = con.cursor()"
   ]
  },
  {
   "cell_type": "code",
   "execution_count": 441,
   "id": "8a5efee3",
   "metadata": {},
   "outputs": [
    {
     "name": "stdout",
     "output_type": "stream",
     "text": [
      "torch.Size([1000])\n"
     ]
    }
   ],
   "source": [
    "fens_ = cur.execute(\"SELECT fen FROM evaluations LIMIT 1000\")\n",
    "fens = fens_.fetchall()\n",
    "bits = fen_to_bitboard(fens[0][0])\n",
    "for i in range(1, 1000):\n",
    "    a = fen_to_bitboard(fens[i][0])\n",
    "    bits = torch.cat([bits, a], dim=0)\n",
    "# print(bits[242])\n",
    "# print(fens[242])\n",
    "evals_ = cur.execute(\"SELECT eval FROM evaluations LIMIT 1000\")\n",
    "evals = evals_.fetchall()\n",
    "norm = torch.tensor([(evals[0][0] + 152.65)/305.3], device=device)\n",
    "for i in range(1, 1000):\n",
    "    a = torch.tensor([(evals[i][0] + 152.65)/305.3], device=device)\n",
    "    norm = torch.cat([norm, a], dim=0)\n",
    "print(norm.shape)\n",
    "# print(fens[238][0])\n",
    "# print(evals[238][0])"
   ]
  },
  {
   "cell_type": "code",
   "execution_count": 442,
   "id": "6dd4aa26",
   "metadata": {},
   "outputs": [],
   "source": [
    "losses = []\n",
    "running_loss = 1"
   ]
  },
  {
   "cell_type": "code",
   "execution_count": 443,
   "id": "124093ea",
   "metadata": {
    "scrolled": false
   },
   "outputs": [
    {
     "name": "stderr",
     "output_type": "stream",
     "text": [
      "C:\\Users\\Brady Wynn\\AppData\\Local\\Programs\\Python\\Python310\\lib\\site-packages\\torch\\nn\\modules\\loss.py:536: UserWarning: Using a target size (torch.Size([128])) that is different to the input size (torch.Size([128, 1])). This will likely lead to incorrect results due to broadcasting. Please ensure they have the same size.\n",
      "  return F.mse_loss(input, target, reduction=self.reduction)\n",
      "C:\\Users\\Brady Wynn\\AppData\\Local\\Programs\\Python\\Python310\\lib\\site-packages\\torch\\nn\\modules\\loss.py:536: UserWarning: Using a target size (torch.Size([104])) that is different to the input size (torch.Size([104, 1])). This will likely lead to incorrect results due to broadcasting. Please ensure they have the same size.\n",
      "  return F.mse_loss(input, target, reduction=self.reduction)\n"
     ]
    }
   ],
   "source": [
    "# https://stackoverflow.com/questions/45113245/how-to-get-mini-batches-in-pytorch-in-a-clean-and-efficient-way\n",
    "n_epochs = 200 # or whatever\n",
    "batch_size = 128 # or whatever\n",
    "\n",
    "for epoch in range(n_epochs):\n",
    "    # X is a torch Variable\n",
    "    permutation = torch.randperm(bits.size()[0])\n",
    "    for i in range(0, bits.size()[0], batch_size):\n",
    "        optimizer.zero_grad()\n",
    "\n",
    "        indices = permutation[i:i+batch_size]\n",
    "        batch_x, batch_y = bits[indices], norm[indices]\n",
    "\n",
    "        # in case you wanted a semi-full example\n",
    "        outputs = model(batch_x)\n",
    "        loss = loss_function(outputs, batch_y)\n",
    "        running_loss = (0.9 * running_loss) + (loss * 0.1)\n",
    "#         print(batch_y)\n",
    "#         print(outputs)\n",
    "        losses.append(running_loss)\n",
    "\n",
    "        loss.backward()\n",
    "        optimizer.step()"
   ]
  },
  {
   "cell_type": "code",
   "execution_count": 449,
   "id": "b85bb749",
   "metadata": {},
   "outputs": [
    {
     "name": "stdout",
     "output_type": "stream",
     "text": [
      "tensor([[0.6037]], device='cuda:0', grad_fn=<AddmmBackward0>)\n"
     ]
    },
    {
     "data": {
      "text/plain": [
       "Model(\n",
       "  (layers): Sequential(\n",
       "    (0): Linear(in_features=768, out_features=2048, bias=True)\n",
       "    (1): BatchNorm1d(2048, eps=1e-05, momentum=0.1, affine=True, track_running_stats=True)\n",
       "    (2): ReLU()\n",
       "    (3): Linear(in_features=2048, out_features=2048, bias=True)\n",
       "    (4): BatchNorm1d(2048, eps=1e-05, momentum=0.1, affine=True, track_running_stats=True)\n",
       "    (5): ReLU()\n",
       "    (6): Linear(in_features=2048, out_features=1, bias=True)\n",
       "  )\n",
       ")"
      ]
     },
     "execution_count": 449,
     "metadata": {},
     "output_type": "execute_result"
    }
   ],
   "source": [
    "model.eval()\n",
    "fen = \"rnbqkbnr/pppppppp/8/8/2P5/8/PP1PPPPP/RNBQKBNR b KQkq c3 0 1\"\n",
    "print(model(fen_to_bitboard(fen)))\n",
    "model.train()"
   ]
  },
  {
   "cell_type": "code",
   "execution_count": 445,
   "id": "9d1e01b6",
   "metadata": {
    "scrolled": true
   },
   "outputs": [
    {
     "data": {
      "text/plain": [
       "[<matplotlib.lines.Line2D at 0x219d516f1c0>]"
      ]
     },
     "execution_count": 445,
     "metadata": {},
     "output_type": "execute_result"
    },
    {
     "data": {
      "image/png": "[encoded data removed]",
      "text/plain": [
       "<Figure size 640x480 with 1 Axes>"
      ]
     },
     "metadata": {},
     "output_type": "display_data"
    }
   ],
   "source": [
    "start = 200\n",
    "smooth = 1\n",
    "x = np.arange(len(losses)/smooth)\n",
    "y = torch.tensor(losses).view(smooth, -1).mean(0)\n",
    "plt.plot(x[start:], y[start:])"
   ]
  },
  {
   "cell_type": "code",
   "execution_count": null,
   "id": "8a69a342",
   "metadata": {},
   "outputs": [],
   "source": []
  }
 ],
 "metadata": {
  "kernelspec": {
   "display_name": "Python 3 (ipykernel)",
   "language": "python",
   "name": "python3"
  },
  "language_info": {
   "codemirror_mode": {
    "name": "ipython",
    "version": 3
   },
   "file_extension": ".py",
   "mimetype": "text/x-python",
   "name": "python",
   "nbconvert_exporter": "python",
   "pygments_lexer": "ipython3",
   "version": "3.10.6"
  }
 },
 "nbformat": 4,
 "nbformat_minor": 5
}
