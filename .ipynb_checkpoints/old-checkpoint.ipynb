{
 "cells": [
  {
   "cell_type": "raw",
   "id": "81054546",
   "metadata": {},
   "source": [
    "https://www.ficsgames.org/download.html"
   ]
  },
  {
   "cell_type": "code",
   "execution_count": 3,
   "id": "92d51064",
   "metadata": {},
   "outputs": [],
   "source": [
    "import numpy as np\n",
    "import matplotlib.pyplot as plt\n",
    "from torch import nn\n",
    "import torch\n",
    "import chess.pgn\n",
    "from stockfish import Stockfish\n",
    "import sqlite3\n",
    "import chess"
   ]
  },
  {
   "cell_type": "code",
   "execution_count": 2,
   "id": "7d9eef7b",
   "metadata": {},
   "outputs": [],
   "source": [
    "torch.cuda.set_device(0)\n",
    "device = torch.device('cuda')\n",
    "loss_function = nn.MSELoss()"
   ]
  },
  {
   "cell_type": "code",
   "execution_count": 3,
   "id": "db3e478d",
   "metadata": {},
   "outputs": [],
   "source": [
    "class Model(nn.Module):\n",
    "    def __init__(self):\n",
    "        super().__init__()\n",
    "        self.layers = nn.Sequential(\n",
    "            nn.Linear(768, 2048),\n",
    "            nn.BatchNorm1d(2048),\n",
    "            nn.ReLU(),\n",
    "            nn.Linear(2048, 2048),\n",
    "            nn.BatchNorm1d(2048),\n",
    "            nn.ReLU(),\n",
    "            nn.Linear(2048, 1),\n",
    "        )\n",
    "    def forward(self, x):\n",
    "        return self.layers(x)"
   ]
  },
  {
   "cell_type": "code",
   "execution_count": 5,
   "id": "ac1131f5",
   "metadata": {
    "scrolled": true
   },
   "outputs": [
    {
     "data": {
      "text/plain": [
       "Model(\n",
       "  (layers): Sequential(\n",
       "    (0): Linear(in_features=768, out_features=2048, bias=True)\n",
       "    (1): BatchNorm1d(2048, eps=1e-05, momentum=0.1, affine=True, track_running_stats=True)\n",
       "    (2): ReLU()\n",
       "    (3): Linear(in_features=2048, out_features=2048, bias=True)\n",
       "    (4): BatchNorm1d(2048, eps=1e-05, momentum=0.1, affine=True, track_running_stats=True)\n",
       "    (5): ReLU()\n",
       "    (6): Linear(in_features=2048, out_features=1, bias=True)\n",
       "  )\n",
       ")"
      ]
     },
     "execution_count": 5,
     "metadata": {},
     "output_type": "execute_result"
    }
   ],
   "source": [
    "model = Model()\n",
    "optimizer = torch.optim.Adam(model.parameters(), lr=1e-4)\n",
    "model.to(device)"
   ]
  },
  {
   "cell_type": "code",
   "execution_count": 10,
   "id": "23b7d3fd",
   "metadata": {
    "scrolled": true
   },
   "outputs": [],
   "source": [
    "con = sqlite3.connect('test.db')\n",
    "cur = con.cursor()"
   ]
  },
  {
   "cell_type": "code",
   "execution_count": 17,
   "id": "d27e5972",
   "metadata": {},
   "outputs": [],
   "source": [
    "def fen_to_bitboard(fen):\n",
    "    a = torch.zeros((12, 64))\n",
    "    board = chess.Board(fen)\n",
    "    a[0][list(board.pieces(chess.PAWN, chess.WHITE))] = 1\n",
    "    a[1][list(board.pieces(chess.KNIGHT, chess.WHITE))] = 1\n",
    "    a[2][list(board.pieces(chess.ROOK, chess.WHITE))] = 1\n",
    "    a[3][list(board.pieces(chess.BISHOP, chess.WHITE))] = 1\n",
    "    a[4][list(board.pieces(chess.QUEEN, chess.WHITE))] = 1\n",
    "    a[5][list(board.pieces(chess.KING, chess.WHITE))] = 1\n",
    "    \n",
    "    a[6][list(board.pieces(chess.PAWN, chess.BLACK))] = 1\n",
    "    a[7][list(board.pieces(chess.KNIGHT, chess.BLACK))] = 1\n",
    "    a[8][list(board.pieces(chess.ROOK, chess.BLACK))] = 1\n",
    "    a[9][list(board.pieces(chess.BISHOP, chess.BLACK))] = 1\n",
    "    a[10][list(board.pieces(chess.QUEEN, chess.BLACK))] = 1\n",
    "    a[11][list(board.pieces(chess.KING, chess.BLACK))] = 1\n",
    "    \n",
    "    return a.view(1, 768)"
   ]
  },
  {
   "cell_type": "code",
   "execution_count": 30,
   "id": "8a5efee3",
   "metadata": {},
   "outputs": [],
   "source": [
    "size = 1000000\n",
    "fens_ = cur.execute(f\"SELECT fen FROM evaluations LIMIT {size}\")\n",
    "fens = fens_.fetchall()\n",
    "tensors = [fen_to_bitboard(fens[i][0]) for i in range(size)]\n",
    "bits = torch.cat(tensors, dim=0)\n",
    "with open('bits.npy', 'wb') as f:\n",
    "    np.save(f, bits)\n",
    "\n",
    "evals_ = cur.execute(f\"SELECT eval FROM evaluations LIMIT {size}\")\n",
    "evals = evals_.fetchall()\n",
    "temp = [evals[i][0] for i in range(size)]\n",
    "evaluations = torch.tensor(temp)\n",
    "with open('labels.npy', 'wb') as f:\n",
    "    np.save(f, evaluations)"
   ]
  },
  {
   "cell_type": "code",
   "execution_count": 35,
   "id": "6dd4aa26",
   "metadata": {},
   "outputs": [],
   "source": [
    "losses = []\n",
    "running_loss = 1"
   ]
  },
  {
   "cell_type": "code",
   "execution_count": 36,
   "id": "124093ea",
   "metadata": {
    "scrolled": false
   },
   "outputs": [],
   "source": [
    "# https://stackoverflow.com/questions/45113245/how-to-get-mini-batches-in-pytorch-in-a-clean-and-efficient-way\n",
    "n_epochs = 1 # or whatever\n",
    "batch_size = 128 # or whatever\n",
    "\n",
    "for epoch in range(n_epochs):\n",
    "    # X is a torch Variable\n",
    "    permutation = torch.randperm(bits.size()[0])\n",
    "    for i in range(0, bits.size()[0], batch_size):\n",
    "        optimizer.zero_grad()\n",
    "\n",
    "        indices = permutation[i:i+batch_size]\n",
    "        batch_x, batch_y = bits[indices], norm[indices]\n",
    "        \n",
    "        batch_x = batch_x.to(device)\n",
    "        batch_y = batch_y.to(device)\n",
    "\n",
    "        # in case you wanted a semi-full example\n",
    "        outputs = model(batch_x)\n",
    "        loss = loss_function(outputs, batch_y.view(-1, 1))\n",
    "        running_loss = (0.9 * running_loss) + (loss * 0.1)\n",
    "#         print(batch_y)\n",
    "#         print(outputs)\n",
    "        losses.append(running_loss)\n",
    "\n",
    "        loss.backward()\n",
    "        optimizer.step()"
   ]
  },
  {
   "cell_type": "code",
   "execution_count": 40,
   "id": "b85bb749",
   "metadata": {},
   "outputs": [
    {
     "name": "stdout",
     "output_type": "stream",
     "text": [
      "tensor([[-0.6428]], device='cuda:0', grad_fn=<AddmmBackward0>)\n"
     ]
    },
    {
     "data": {
      "text/plain": [
       "Model(\n",
       "  (layers): Sequential(\n",
       "    (0): Linear(in_features=768, out_features=2048, bias=True)\n",
       "    (1): BatchNorm1d(2048, eps=1e-05, momentum=0.1, affine=True, track_running_stats=True)\n",
       "    (2): ReLU()\n",
       "    (3): Linear(in_features=2048, out_features=2048, bias=True)\n",
       "    (4): BatchNorm1d(2048, eps=1e-05, momentum=0.1, affine=True, track_running_stats=True)\n",
       "    (5): ReLU()\n",
       "    (6): Linear(in_features=2048, out_features=1, bias=True)\n",
       "  )\n",
       ")"
      ]
     },
     "execution_count": 40,
     "metadata": {},
     "output_type": "execute_result"
    }
   ],
   "source": [
    "model.eval()\n",
    "fen = \"rnbqkbnr/pppppppp/8/8/2P5/8/PP1PPPPP/RNBQKBNR b KQkq c3 0 1\"\n",
    "print(model(fen_to_bitboard(fen)))\n",
    "model.train()"
   ]
  },
  {
   "cell_type": "code",
   "execution_count": 39,
   "id": "a54ac23b",
   "metadata": {},
   "outputs": [
    {
     "name": "stdout",
     "output_type": "stream",
     "text": [
      "tensor(2.9351, device='cuda:0', grad_fn=<AddBackward0>)\n"
     ]
    }
   ],
   "source": [
    "print(running_loss)"
   ]
  },
  {
   "cell_type": "code",
   "execution_count": 38,
   "id": "9d1e01b6",
   "metadata": {
    "scrolled": true
   },
   "outputs": [
    {
     "data": {
      "text/plain": [
       "[<matplotlib.lines.Line2D at 0x1d094698100>]"
      ]
     },
     "execution_count": 38,
     "metadata": {},
     "output_type": "execute_result"
    },
    {
     "data": {
      "image/png": "[encoded data removed]",
      "text/plain": [
       "<Figure size 640x480 with 1 Axes>"
      ]
     },
     "metadata": {},
     "output_type": "display_data"
    }
   ],
   "source": [
    "start = 12000\n",
    "smooth = 1\n",
    "x = np.arange(len(losses)/smooth)\n",
    "y = torch.tensor(losses).view(smooth, -1).mean(0)\n",
    "plt.plot(x[start:], y[start:])"
   ]
  },
  {
   "cell_type": "code",
   "execution_count": null,
   "id": "8a69a342",
   "metadata": {},
   "outputs": [],
   "source": []
  }
 ],
 "metadata": {
  "kernelspec": {
   "display_name": "Python 3 (ipykernel)",
   "language": "python",
   "name": "python3"
  },
  "language_info": {
   "codemirror_mode": {
    "name": "ipython",
    "version": 3
   },
   "file_extension": ".py",
   "mimetype": "text/x-python",
   "name": "python",
   "nbconvert_exporter": "python",
   "pygments_lexer": "ipython3",
   "version": "3.10.6"
  }
 },
 "nbformat": 4,
 "nbformat_minor": 5
}
