{
 "cells": [
  {
   "cell_type": "raw",
   "id": "81054546",
   "metadata": {},
   "source": [
    "https://www.ficsgames.org/download.html"
   ]
  },
  {
   "cell_type": "code",
   "execution_count": 1,
   "id": "92d51064",
   "metadata": {},
   "outputs": [],
   "source": [
    "import numpy as np\n",
    "import matplotlib.pyplot as plt\n",
    "from torch import nn\n",
    "import torch\n",
    "import chess.pgn\n",
    "from stockfish import Stockfish\n",
    "import sqlite3\n",
    "import chess\n",
    "import graphviz\n",
    "import chess.polyglot"
   ]
  },
  {
   "cell_type": "code",
   "execution_count": 2,
   "id": "7d9eef7b",
   "metadata": {},
   "outputs": [],
   "source": [
    "torch.cuda.set_device(0)\n",
    "device = torch.device('cuda')\n",
    "loss_function = nn.MSELoss()"
   ]
  },
  {
   "cell_type": "code",
   "execution_count": 3,
   "id": "db3e478d",
   "metadata": {},
   "outputs": [],
   "source": [
    "class Model(nn.Module):\n",
    "    def __init__(self):\n",
    "        super().__init__()\n",
    "        self.layers = nn.Sequential(\n",
    "            nn.Linear(384, 16),\n",
    "            nn.ReLU(),\n",
    "            nn.Linear(16, 16),\n",
    "            nn.ReLU(),\n",
    "            nn.Linear(16, 1),\n",
    "        )\n",
    "    def forward(self, x):\n",
    "        return self.layers(x)"
   ]
  },
  {
   "cell_type": "code",
   "execution_count": 4,
   "id": "ac1131f5",
   "metadata": {
    "scrolled": true
   },
   "outputs": [
    {
     "data": {
      "text/plain": [
       "Model(\n",
       "  (layers): Sequential(\n",
       "    (0): Linear(in_features=384, out_features=16, bias=True)\n",
       "    (1): ReLU()\n",
       "    (2): Linear(in_features=16, out_features=16, bias=True)\n",
       "    (3): ReLU()\n",
       "    (4): Linear(in_features=16, out_features=1, bias=True)\n",
       "  )\n",
       ")"
      ]
     },
     "execution_count": 4,
     "metadata": {},
     "output_type": "execute_result"
    }
   ],
   "source": [
    "# model = Model()\n",
    "model = torch.load(\"yw.pt\")\n",
    "optimizer = torch.optim.Adam(model.parameters(), lr=1e-3)\n",
    "model.to(device)"
   ]
  },
  {
   "cell_type": "code",
   "execution_count": 5,
   "id": "d27e5972",
   "metadata": {},
   "outputs": [],
   "source": [
    "def fen_to_bitboard(fen):\n",
    "    f = torch.zeros((6, 64))\n",
    "    board = chess.Board(fen)\n",
    "    if board.turn == chess.WHITE:\n",
    "        a = 1\n",
    "        b = -1\n",
    "    if board.turn == chess.BLACK:\n",
    "        a = -1\n",
    "        b = 1\n",
    "    f[0][list(board.pieces(chess.PAWN, chess.WHITE))] = a\n",
    "    f[1][list(board.pieces(chess.KNIGHT, chess.WHITE))] = a\n",
    "    f[2][list(board.pieces(chess.ROOK, chess.WHITE))] = a\n",
    "    f[3][list(board.pieces(chess.BISHOP, chess.WHITE))] = a\n",
    "    f[4][list(board.pieces(chess.QUEEN, chess.WHITE))] = a\n",
    "    f[5][list(board.pieces(chess.KING, chess.WHITE))] = a\n",
    "    \n",
    "    f[0][list(board.pieces(chess.PAWN, chess.BLACK))] = b\n",
    "    f[1][list(board.pieces(chess.KNIGHT, chess.BLACK))] = b\n",
    "    f[2][list(board.pieces(chess.ROOK, chess.BLACK))] = b\n",
    "    f[3][list(board.pieces(chess.BISHOP, chess.BLACK))] = b\n",
    "    f[4][list(board.pieces(chess.QUEEN, chess.BLACK))] = b\n",
    "    f[5][list(board.pieces(chess.KING, chess.BLACK))] = b\n",
    "    \n",
    "    return f.view(1, 384)"
   ]
  },
  {
   "cell_type": "code",
   "execution_count": 3,
   "id": "97bc3d0e",
   "metadata": {},
   "outputs": [],
   "source": [
    "con = sqlite3.connect('test.db')\n",
    "cur = con.cursor()"
   ]
  },
  {
   "cell_type": "code",
   "execution_count": 9,
   "id": "8a313df0",
   "metadata": {},
   "outputs": [],
   "source": [
    "def fen_to_zobrist(fen):\n",
    "    f = torch.zeros(1, 64)\n",
    "    board = chess.Board(fen)\n",
    "    for i, val in enumerate(list('{0:0b}'.format(chess.polyglot.zobrist_hash(board)))):\n",
    "        if val == \"1\":\n",
    "            f[0][i] = 1\n",
    "    return f"
   ]
  },
  {
   "cell_type": "code",
   "execution_count": 12,
   "id": "8a5efee3",
   "metadata": {},
   "outputs": [],
   "source": [
    "size = 1000000\n",
    "# training dataset\n",
    "fens_ = cur.execute(f\"SELECT fen FROM evaluations LIMIT {size}\")\n",
    "fens = fens_.fetchall()\n",
    "board = chess.Board()\n",
    "tensors = []\n",
    "tensors = [fen_to_zobrist(fens[i][0]) for i in range(size)]\n",
    "bits = torch.cat(tensors, dim=0)\n",
    "with open('johnZobrist.npy', 'wb') as f:\n",
    "    np.save(f, bits)\n",
    "\n",
    "# evals_ = cur.execute(f\"SELECT eval FROM evaluations LIMIT {size}\")\n",
    "# evals = evals_.fetchall()\n",
    "# temp = [((np.arctan(1/2 * evals[i][0]) + np.pi/2)/(np.pi)) for i in range(size)]\n",
    "# evaluations = torch.tensor(temp, dtype=torch.float32)\n",
    "# with open('labels.npy', 'wb') as f:\n",
    "#     np.save(f, evaluations)\n",
    "\n",
    "\n",
    "# evaluation dataset\n",
    "# eval_size = 10000\n",
    "# e_fen_ = cur.execute(f\"SELECT fen FROM evaluations WHERE id > {size} LIMIT {eval_size}\")\n",
    "# e_fen = e_fen_.fetchall()\n",
    "# tensors = [fen_to_bitboard(e_fen[i][0]) for i in range(eval_size)]\n",
    "# bits = torch.cat(tensors, dim=0)\n",
    "# with open('eval_examples.npy', 'wb') as f:\n",
    "#     np.save(f, bits)\n",
    "\n",
    "# evaluation_ = cur.execute(f\"SELECT eval FROM evaluations WHERE id > {size} LIMIT {eval_size}\")\n",
    "# evaluation = evaluation_.fetchall()\n",
    "# temp = [((np.arctan(1/2 * evaluation[i][0]) + np.pi/2)/(np.pi)) for i in range(eval_size)]\n",
    "# evaluations = torch.tensor(temp)\n",
    "# with open('eval_labels.npy', 'wb') as f:\n",
    "#     np.save(f, evaluations)\n",
    "\n",
    "# plt.style.use('_mpl-gallery')\n",
    "\n",
    "# # make data\n",
    "# np.random.seed(1)\n",
    "\n",
    "# # plot:\n",
    "# fig, ax = plt.subplots()\n",
    "\n",
    "# ax.hist(x, bins=100, linewidth=0.5, edgecolor=\"white\")\n",
    "\n",
    "# ax.set(xlim=(-2, 2), xticks=np.arange(1, 1),\n",
    "#        ylim=(0, 1000), yticks=np.linspace(0, 1000, 9))\n",
    "\n",
    "# plt.show()"
   ]
  },
  {
   "cell_type": "code",
   "execution_count": 5,
   "id": "6dd4aa26",
   "metadata": {},
   "outputs": [],
   "source": [
    "losses = []\n",
    "# eval_losses = []\n",
    "\n",
    "bits = torch.from_numpy(np.load(\"bits384.npy\")).to(device)\n",
    "labels = torch.from_numpy(np.load(\"labels.npy\")).to(device)\n",
    "\n",
    "# eval_examples = torch.from_numpy(np.load(\"eval_examples.npy\")).to(device)\n",
    "# eval_labels = torch.from_numpy(np.load(\"eval_labels.npy\")).to(device)"
   ]
  },
  {
   "cell_type": "code",
   "execution_count": 9,
   "id": "124093ea",
   "metadata": {
    "scrolled": false
   },
   "outputs": [],
   "source": [
    "# model training\n",
    "# https://stackoverflow.com/questions/45113245/how-to-get-mini-batches-in-pytorch-in-a-clean-and-efficient-way\n",
    "n_epochs = 100 # or whatever\n",
    "batch_size = 128 # or whatever\n",
    "\n",
    "for epoch in range(n_epochs):\n",
    "    # X is a torch Variable\n",
    "    permutation = torch.randperm(bits.size()[0])\n",
    "#     eval_permutation = torch.randperm(bits.size()[0])\n",
    "#     for i in range(0, eval_examples.size()[0], batch_size):\n",
    "#         indices = eval_permutation[i:i+batch_size]\n",
    "#         batch_x, batch_y = bits[indices], labels[indices]\n",
    "#         outputs = model(batch_x)\n",
    "        \n",
    "#         loss = loss_function(outputs, batch_y.view(-1, 1))\n",
    "#         eval_losses.append(loss.item())\n",
    "        \n",
    "    for i in range(0, bits.size()[0], batch_size):\n",
    "        optimizer.zero_grad()\n",
    "\n",
    "        indices = permutation[i:i+batch_size]\n",
    "        batch_x, batch_y = bits[indices], labels[indices]\n",
    "        \n",
    "        outputs = model(batch_x)\n",
    "        loss = loss_function(outputs, batch_y.view(-1, 1))\n",
    "        losses.append(loss.item())\n",
    "\n",
    "        loss.backward()\n",
    "        optimizer.step()"
   ]
  },
  {
   "cell_type": "code",
   "execution_count": 11,
   "id": "9d1e01b6",
   "metadata": {
    "scrolled": false
   },
   "outputs": [
    {
     "data": {
      "image/png": "[encoded data removed]",
      "text/plain": [
       "<Figure size 640x480 with 1 Axes>"
      ]
     },
     "metadata": {},
     "output_type": "display_data"
    }
   ],
   "source": [
    "start = 10000\n",
    "smooth = 1\n",
    "\n",
    "x = np.arange(len(losses)/smooth)\n",
    "y = torch.tensor(losses).view(smooth, -1).mean(0)\n",
    "plt.plot(x[start:], y[start:])\n",
    "\n",
    "# e_x = np.arange(0, (len(eval_losses)/smooth) * 100, 100)\n",
    "# e_y = torch.tensor(eval_losses).view(smooth, -1).mean(0)\n",
    "# plt.plot(e_x[int(start/100):], e_y[int(start/100):])\n",
    "\n",
    "# plt.ylim(0, 0.005)\n",
    "plt.show()"
   ]
  },
  {
   "cell_type": "code",
   "execution_count": 12,
   "id": "efda34ef",
   "metadata": {},
   "outputs": [
    {
     "data": {
      "text/plain": [
       "0.03542631553485989"
      ]
     },
     "execution_count": 12,
     "metadata": {},
     "output_type": "execute_result"
    }
   ],
   "source": [
    "sum(losses[len(losses) - 100:]) / 100"
   ]
  },
  {
   "cell_type": "code",
   "execution_count": 25,
   "id": "c46178a8",
   "metadata": {},
   "outputs": [
    {
     "data": {
      "text/plain": [
       "(array([ 5.,  3.,  4.,  1.,  5.,  3.,  6.,  2.,  2.,  3.,  1.,  4.,  6.,\n",
       "         4.,  3.,  4.,  3.,  3.,  2.,  1.,  4.,  4.,  4.,  9.,  4.,  2.,\n",
       "         4.,  8.,  2.,  4.,  1.,  1.,  7.,  5.,  2.,  5.,  2.,  6.,  3.,\n",
       "         2.,  5.,  7.,  6.,  4.,  3.,  0.,  5.,  2.,  2.,  4.,  2., 10.,\n",
       "         2.,  3.,  1.,  8.,  5.,  3.,  1.,  7.,  3.,  7.,  3.,  5.,  4.,\n",
       "         4.,  7.,  1.,  8.,  0.,  3.,  3.,  3.,  2.,  3.,  3.,  3.,  2.,\n",
       "         4.,  7.,  4.,  3.,  3.,  5.,  4.,  3.,  4.,  1.,  9.,  3.,  5.,\n",
       "         4.,  7.,  5.,  3.,  4.,  5.,  1.,  7.,  5.]),\n",
       " array([-0.0506161 , -0.04960716, -0.04859823, -0.04758929, -0.04658036,\n",
       "        -0.04557142, -0.04456249, -0.04355355, -0.04254461, -0.04153568,\n",
       "        -0.04052674, -0.0395178 , -0.03850887, -0.03749993, -0.036491  ,\n",
       "        -0.03548206, -0.03447313, -0.03346419, -0.03245526, -0.03144632,\n",
       "        -0.03043739, -0.02942845, -0.02841952, -0.02741058, -0.02640165,\n",
       "        -0.02539271, -0.02438377, -0.02337484, -0.0223659 , -0.02135697,\n",
       "        -0.02034803, -0.0193391 , -0.01833016, -0.01732123, -0.01631229,\n",
       "        -0.01530336, -0.01429442, -0.01328549, -0.01227655, -0.01126761,\n",
       "        -0.01025868, -0.00924974, -0.00824081, -0.00723187, -0.00622294,\n",
       "        -0.005214  , -0.00420507, -0.00319613, -0.00218719, -0.00117826,\n",
       "        -0.00016932,  0.00083961,  0.00184855,  0.00285748,  0.00386642,\n",
       "         0.00487535,  0.00588429,  0.00689322,  0.00790216,  0.0089111 ,\n",
       "         0.00992003,  0.01092897,  0.0119379 ,  0.01294684,  0.01395577,\n",
       "         0.01496471,  0.01597364,  0.01698258,  0.01799151,  0.01900045,\n",
       "         0.02000939,  0.02101832,  0.02202726,  0.02303619,  0.02404513,\n",
       "         0.02505406,  0.026063  ,  0.02707193,  0.02808087,  0.0290898 ,\n",
       "         0.03009874,  0.03110768,  0.03211661,  0.03312555,  0.03413448,\n",
       "         0.03514342,  0.03615235,  0.03716129,  0.03817022,  0.03917916,\n",
       "         0.0401881 ,  0.04119703,  0.04220597,  0.0432149 ,  0.04422384,\n",
       "         0.04523277,  0.04624171,  0.04725064,  0.04825958,  0.04926851,\n",
       "         0.05027745]),\n",
       " <BarContainer object of 100 artists>)"
      ]
     },
     "execution_count": 25,
     "metadata": {},
     "output_type": "execute_result"
    },
    {
     "data": {
      "image/png": "[encoded data removed]",
      "text/plain": [
       "<Figure size 640x480 with 1 Axes>"
      ]
     },
     "metadata": {},
     "output_type": "display_data"
    }
   ],
   "source": [
    "fen = \"8/8/8/KP1q1k2/P7/8/8/8 w - - 1 61\"\n",
    "a = fen_to_bitboard(fen)\n",
    "# print(model(a))\n",
    "w = list(model.parameters())[0][0]\n",
    "plt.hist(w.view(1, -1).detach().cpu(), 100)\n",
    "# w2 = torch.floor(torch.clip(7.5 + 4 * w[2].detach().cpu(), 0, 15))\n",
    "# w3 = torch.floor(torch.clip(7.5 +  80 * w[4].detach().cpu(), 0, 15))\n",
    "# b = torch.tensor([0.5235], device=device)\n",
    "# w1 = (torch.floor((w*90.2425267908)+6.7241))\n",
    "# # relu = torch.nn.ReLU()\n",
    "# L = []\n",
    "# for i in w1.int():\n",
    "#     L.append(i.item())\n",
    "# print(L)\n",
    "# real\n",
    "# r = (a @ w[0].T.detach().cpu())\n",
    "# r = (r @ w[2].T.detach().cpu())\n",
    "\n",
    "# quant\n",
    "# q = (a @ w1.T)\n",
    "# q = ((((q @ w2.T) - (15 * torch.sum(a)))/8))\n",
    "\n",
    "# print(r)\n",
    "# print(q)\n",
    "# print(((a @ w1) - (6.7241 * torch.sum(a)))/90.2425267908)"
   ]
  },
  {
   "cell_type": "code",
   "execution_count": 119,
   "id": "778dd1ce",
   "metadata": {},
   "outputs": [
    {
     "data": {
      "text/plain": [
       "'1111'"
      ]
     },
     "execution_count": 119,
     "metadata": {},
     "output_type": "execute_result"
    }
   ],
   "source": [
    "'{0:04b}'.format(15)"
   ]
  },
  {
   "cell_type": "code",
   "execution_count": 126,
   "id": "9c6f636a",
   "metadata": {
    "scrolled": true
   },
   "outputs": [
    {
     "name": "stdout",
     "output_type": "stream",
     "text": [
      "[4856156134427813478, 3911521856006809191, 7244117474980292214, 5225415157427365733, 9819666223999645270, 9540706994317911399, 5077359319410169463, 7450772815724504950, 8531900609334769510, 7383201233389450855, 7450755291973903991, 8531620229325154166, 7378715153235605351, 7378978009512375926, 7383183709940705125, 7450474916793972310, 8527134226446247271, 7306939107173095032, 6230561272512210823, 7455259991647615093, 8603695424104531799, 8531918269705647478, 7383483799323498343, 7455276346918663801, 8603957108441311126, 8536105219094116710, 7450474989539006053, 8527135390366787158, 7306957729901733220, 6230859236170421828, 7460027410178991172, 8679974120606549061, 9752377413737923670, 8464086030130365798, 6298167966118991459, 8536967089356105270, 7464264913730823015, 8747774177435858551, 10837178323006875506, 7374156504724043560, 7306039633327387269, 6216169690980886616, 7224994687146427781, 4919450552085534807, 4924232538530350454, 5000744321647400804, 6224932851520206409, 7365205255775544470]\n"
     ]
    }
   ],
   "source": [
    "W = []\n",
    "for pog in range(48):\n",
    "    str = \"\"\n",
    "    for peepo in L[pog:pog+16]:\n",
    "        str += '{0:04b}'.format(peepo)\n",
    "#     print(str)\n",
    "    W.append(int(str, 2))\n",
    "print(W)"
   ]
  },
  {
   "cell_type": "code",
   "execution_count": 115,
   "id": "72b3c4f6",
   "metadata": {},
   "outputs": [
    {
     "data": {
      "text/plain": [
       "64"
      ]
     },
     "execution_count": 115,
     "metadata": {},
     "output_type": "execute_result"
    }
   ],
   "source": [
    "abd = '{0:064b}'.format(100000)\n",
    "len(abd)"
   ]
  },
  {
   "cell_type": "code",
   "execution_count": 27,
   "id": "8a69a342",
   "metadata": {},
   "outputs": [],
   "source": [
    "def evaluation(fen):\n",
    "    model.eval()\n",
    "    score  = model(fen_to_bitboard(fen).to(device))\n",
    "    model.train()\n",
    "    return score.item()"
   ]
  },
  {
   "cell_type": "code",
   "execution_count": 7,
   "id": "fc3bd93b",
   "metadata": {},
   "outputs": [],
   "source": [
    "class Node():\n",
    "    def __init__(self, fen, parent, color, move):\n",
    "        self.fen = fen\n",
    "        self.parent = parent\n",
    "        self.children = None\n",
    "        self.visits = 0\n",
    "        self.prior = 0\n",
    "        self.wins = 0\n",
    "        self.color = color\n",
    "        self.move = move"
   ]
  },
  {
   "cell_type": "code",
   "execution_count": 9,
   "id": "bd9d555f",
   "metadata": {},
   "outputs": [],
   "source": [
    "def minimax(board, depth, alpha, beta):\n",
    "    moves = list(board.legal_moves)\n",
    "    if depth == 1:\n",
    "        tensors = []\n",
    "        for m in moves:\n",
    "            board.push(m)\n",
    "            tensors.append(fen_to_bitboard(board.fen()).to(device))\n",
    "            board.pop()\n",
    "        model.eval()\n",
    "        logits = model(torch.cat(tensors, dim=0))\n",
    "        model.train()\n",
    "        if board.turn == chess.WHITE:\n",
    "            return torch.max(logits).item(), None\n",
    "        else:\n",
    "            return torch.min(logits).item(), None\n",
    "    if board.turn == chess.WHITE:\n",
    "        maxScore = -1000\n",
    "        best_move = None\n",
    "        for m in moves:\n",
    "            board.push(m)\n",
    "            score, _ = minimax(board, depth-1, alpha, beta)\n",
    "            if score > maxScore:\n",
    "                maxScore = score\n",
    "                best_move = m\n",
    "            board.pop()\n",
    "            alpha = max(alpha, score)\n",
    "            if beta <= alpha:\n",
    "                break\n",
    "        if depth < 4:\n",
    "            return maxScore, None\n",
    "        if depth == 4:\n",
    "            return maxScore, best_move\n",
    "    else:\n",
    "        minScore = 1000\n",
    "        best_move = None\n",
    "        for m in moves:\n",
    "            board.push(m)\n",
    "            score, _ = minimax(board, depth-1, alpha, beta)\n",
    "            if score < minScore:\n",
    "                minScore = score\n",
    "                best_move = m\n",
    "            board.pop()\n",
    "            beta = min(beta, score)\n",
    "            if beta <= alpha:\n",
    "                break\n",
    "        if depth < 4:\n",
    "            return minScore, None\n",
    "        if depth == 4:\n",
    "            return minScore, best_move"
   ]
  },
  {
   "cell_type": "code",
   "execution_count": 131,
   "id": "ef546f8e",
   "metadata": {},
   "outputs": [],
   "source": [
    "def expand_node(node, color):\n",
    "    board = chess.Board(node.fen)\n",
    "    moves = list(board.legal_moves)\n",
    "    nodes = []\n",
    "    \n",
    "    tensors = []\n",
    "\n",
    "    for move in moves:\n",
    "        board.push(move)\n",
    "        n = Node(board.fen(), node, board.turn, move)\n",
    "        nodes.append(n)\n",
    "        tensors.append(fen_to_bitboard(n.fen).to(device))\n",
    "        board.pop()\n",
    "\n",
    "    node.children = nodes\n",
    "    \n",
    "    if len(node.children) > 0:\n",
    "        model.eval()\n",
    "        logits = model(torch.cat(tensors, dim=0))\n",
    "        \n",
    "        if node.color == False:\n",
    "            for i, child in enumerate(node.children):\n",
    "                child.prior = (1 - logits[i].item())\n",
    "            return float(1 - sum(logits) / len(logits))\n",
    "        else:\n",
    "            for i, child in enumerate(node.children):\n",
    "                child.prior = (logits[i].item())\n",
    "            return float(sum(logits) / len(logits))\n",
    "        model.train()\n",
    "\n",
    "def select_child(node):\n",
    "    best_node = None\n",
    "    \n",
    "    best = -np.inf\n",
    "    for child in node.children:\n",
    "        if child.visits > 0:\n",
    "            val = child.wins / child.visits + np.sqrt(2) * np.sqrt(np.log(node.visits) / (child.visits))\n",
    "        else:\n",
    "            val = child.prior + np.sqrt(2) * np.sqrt(np.log(node.visits) / (child.visits + 1))\n",
    "#         print(f\"{child.move} {child.visits} {child.prior:.3f} {child.wins:.3f} {val:.4f} {node.visits}\")\n",
    "        if val > best:\n",
    "            best = val\n",
    "            best_node = child\n",
    "    \n",
    "#     print(best_node.move)\n",
    "    return best_node\n",
    "\n",
    "def backpropagate(node, score, color):\n",
    "    while node is not None:\n",
    "        node.visits += 1\n",
    "        if color == node.color:\n",
    "            node.wins += score\n",
    "        else:\n",
    "            node.wins += (1 - score)\n",
    "        node = node.parent\n",
    "\n",
    "def search(board):\n",
    "    root = Node(board.fen(), None, board.turn, None)\n",
    "\n",
    "    for _ in range(1000):\n",
    "        # Selection and expansion\n",
    "        current = root\n",
    "        while current.children is not None:\n",
    "            current = select_child(current)\n",
    "#         print()\n",
    "\n",
    "        if current.visits == 0:\n",
    "            # If the node has not been visited yet, expand it\n",
    "            score = expand_node(current, current.color)\n",
    "\n",
    "        # Simulation\n",
    "        score = current.prior\n",
    "\n",
    "        # Backpropagation\n",
    "        backpropagate(current, score, current.color)\n",
    "\n",
    "    # Choose the best move based on visits\n",
    "    best_visits = -1\n",
    "    best_move = \"\"\n",
    "\n",
    "    for node in root.children:\n",
    "        print(f\"{node.move} {node.visits} {node.prior:.3f} {node.wins:.3f} {(node.wins/(node.visits)):.4f}\")\n",
    "        if node.visits > best_visits:\n",
    "            best_visits = node.visits\n",
    "            best_move = node.move\n",
    "    \n",
    "    return best_move"
   ]
  },
  {
   "cell_type": "code",
   "execution_count": 132,
   "id": "60b8154a",
   "metadata": {
    "scrolled": false
   },
   "outputs": [
    {
     "name": "stdout",
     "output_type": "stream",
     "text": [
      "h8g8 27 0.259 11.112 0.4116\n",
      "f8e7 38 0.407 19.795 0.5209\n",
      "f8d6 31 0.369 14.227 0.4589\n",
      "f8c5 38 0.448 19.967 0.5254\n",
      "f8b4 29 0.421 12.479 0.4303\n",
      "f8a3 33 0.374 15.699 0.4757\n",
      "e8e7 22 0.253 7.216 0.3280\n",
      "d8e7 28 0.341 11.821 0.4222\n",
      "a8b8 29 0.345 12.717 0.4385\n",
      "f6g8 26 0.292 10.107 0.3887\n",
      "f6h5 30 0.332 13.336 0.4445\n",
      "f6d5 22 0.178 7.280 0.3309\n",
      "f6g4 30 0.310 13.393 0.4464\n",
      "f6e4 76 0.428 53.398 0.7026\n",
      "c6b8 25 0.247 9.324 0.3730\n",
      "c6e7 24 0.225 8.710 0.3629\n",
      "c6a5 38 0.358 19.897 0.5236\n",
      "c6d4 31 0.260 14.284 0.4608\n",
      "c6b4 30 0.279 13.434 0.4478\n",
      "h7h6 36 0.425 18.279 0.5078\n",
      "g7g6 28 0.285 11.779 0.4207\n",
      "d7d6 34 0.387 16.512 0.4856\n",
      "b7b6 27 0.295 11.097 0.4110\n",
      "a7a6 31 0.415 14.282 0.4607\n",
      "h7h5 26 0.290 10.174 0.3913\n",
      "g7g5 24 0.238 8.689 0.3621\n",
      "d7d5 104 0.346 79.398 0.7634\n",
      "b7b5 50 0.364 30.130 0.6026\n",
      "a7a5 32 0.354 14.934 0.4667\n"
     ]
    },
    {
     "data": {
      "text/plain": [
       "Move.from_uci('d7d5')"
      ]
     },
     "execution_count": 132,
     "metadata": {},
     "output_type": "execute_result"
    }
   ],
   "source": [
    "fen = \"r1bqkb1r/pppp1ppp/2n2n2/4p3/2B1P3/3P1N2/PPP2PPP/RNBQK2R b KQkq - 0 4\"\n",
    "board = chess.Board(fen)\n",
    "# print(minimax(board, 4, -1000000, 1000000))\n",
    "search(board)"
   ]
  },
  {
   "cell_type": "code",
   "execution_count": 28,
   "id": "90eae826",
   "metadata": {
    "scrolled": false
   },
   "outputs": [
    {
     "name": "stdout",
     "output_type": "stream",
     "text": [
      "-0.04337083548307419 a5b6\n",
      "-0.03220266103744507 a5a6\n",
      "-0.04406551271677017 a5b4\n",
      "a5a6\n",
      "-0.039879669745763145\n"
     ]
    }
   ],
   "source": [
    "# white\n",
    "fen = \"8/8/8/KP1q1k2/P7/8/8/8 w - - 1 61\"\n",
    "board = chess.Board(fen)\n",
    "moves = list(board.legal_moves)\n",
    "\n",
    "scores = []\n",
    "best_score = -1000\n",
    "best_move = \"\"\n",
    "for m in moves:\n",
    "    board.push(m)\n",
    "    score = evaluation(board.fen())\n",
    "    scores.append(score)\n",
    "    print(str(score) + \" \" + str(m))\n",
    "    if score > best_score:\n",
    "        best_score = score\n",
    "        best_move = m\n",
    "    board.pop()\n",
    "print(best_move)\n",
    "print(sum(scores) / len(scores))"
   ]
  },
  {
   "cell_type": "code",
   "execution_count": 130,
   "id": "34d1cbd7",
   "metadata": {},
   "outputs": [
    {
     "name": "stdout",
     "output_type": "stream",
     "text": [
      "0.6949711441993713 h8g8\n",
      "0.5791548490524292 h8f8\n",
      "0.6526648998260498 e8f8\n",
      "0.6621037721633911 e8e7\n",
      "0.5586944818496704 d8e7\n",
      "0.596760094165802 a8b8\n",
      "0.6642712354660034 f6g8\n",
      "0.5706773400306702 f6h5\n",
      "0.7545305490493774 f6d5\n",
      "0.6737837195396423 f6g4\n",
      "0.35478276014328003 f6e4\n",
      "0.7026157379150391 c6b8\n",
      "0.7306617498397827 c6e7\n",
      "0.6152477264404297 c6a5\n",
      "0.6482574939727783 c6d4\n",
      "0.7644238471984863 c6b4\n",
      "0.7152622938156128 c5f8\n",
      "0.6191264390945435 c5e7\n",
      "0.6805263161659241 c5d6\n",
      "0.5572850108146667 c5b6\n",
      "0.604566752910614 c5d4\n",
      "0.5946999192237854 c5b4\n",
      "0.6883387565612793 c5e3\n",
      "0.6837028861045837 c5a3\n",
      "0.747037410736084 c5f2\n",
      "0.5310772061347961 e8g8\n",
      "0.5426334738731384 h7h6\n",
      "0.6632850170135498 g7g6\n",
      "0.5449357032775879 d7d6\n",
      "0.6223488450050354 b7b6\n",
      "0.5728025436401367 a7a6\n",
      "0.6837194561958313 h7h5\n",
      "0.6673473119735718 g7g5\n",
      "0.5923116207122803 d7d5\n",
      "0.5635175108909607 b7b5\n",
      "0.5908156633377075 a7a5\n",
      "f6e4\n",
      "0.3697516239351697\n"
     ]
    }
   ],
   "source": [
    "# black\n",
    "fen = \"r1bqk2r/pppp1ppp/2n2n2/2b1p3/2B1P3/3P1N1P/PPP2PP1/RNBQK2R b KQkq - 0 5\"\n",
    "board = chess.Board(fen)\n",
    "moves = list(board.legal_moves)\n",
    "\n",
    "scores = []\n",
    "best_score = 1000\n",
    "best_move = \"\"\n",
    "for m in moves:\n",
    "    board.push(m)\n",
    "    score = evaluation(board.fen())\n",
    "    scores.append(score)\n",
    "    print(str(score) + \" \" + str(m))\n",
    "    if score < best_score:\n",
    "        best_score = score\n",
    "        best_move = m\n",
    "    board.pop()\n",
    "print(best_move)\n",
    "print(1 - sum(scores) / len(scores))"
   ]
  },
  {
   "cell_type": "code",
   "execution_count": 39,
   "id": "2ef413cd",
   "metadata": {},
   "outputs": [
    {
     "data": {
      "text/plain": [
       "[<matplotlib.lines.Line2D at 0x11d93d589d0>]"
      ]
     },
     "execution_count": 39,
     "metadata": {},
     "output_type": "execute_result"
    },
    {
     "data": {
      "image/png": "[encoded data removed]",
      "text/plain": [
       "<Figure size 640x480 with 1 Axes>"
      ]
     },
     "metadata": {},
     "output_type": "display_data"
    }
   ],
   "source": [
    "x = np.arange(-1, 9, .05)\n",
    "y = np.arange(-10, 10, .1)\n",
    "plt.plot(x, y)\n",
    "y = [np.ceil(max(0, i)) for i in y]\n",
    "plt.plot(x, y)\n",
    "x = np.arange(-1, 9, .05)\n",
    "y = np.arange(-10, 10, .1)\n",
    "y = [np.tan(i) for i in y]\n",
    "plt.plot(x, y)"
   ]
  },
  {
   "cell_type": "code",
   "execution_count": null,
   "id": "a987689c",
   "metadata": {},
   "outputs": [],
   "source": []
  }
 ],
 "metadata": {
  "kernelspec": {
   "display_name": "Python 3 (ipykernel)",
   "language": "python",
   "name": "python3"
  },
  "language_info": {
   "codemirror_mode": {
    "name": "ipython",
    "version": 3
   },
   "file_extension": ".py",
   "mimetype": "text/x-python",
   "name": "python",
   "nbconvert_exporter": "python",
   "pygments_lexer": "ipython3",
   "version": "3.10.6"
  }
 },
 "nbformat": 4,
 "nbformat_minor": 5
}
