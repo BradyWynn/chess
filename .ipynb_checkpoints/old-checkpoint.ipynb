{
 "cells": [
  {
   "cell_type": "raw",
   "id": "81054546",
   "metadata": {},
   "source": [
    "https://www.ficsgames.org/download.html"
   ]
  },
  {
   "cell_type": "code",
   "execution_count": 1,
   "id": "92d51064",
   "metadata": {},
   "outputs": [],
   "source": [
    "import numpy as np\n",
    "import matplotlib.pyplot as plt\n",
    "from torch import nn\n",
    "import torch\n",
    "import chess.pgn\n",
    "from stockfish import Stockfish\n",
    "import sqlite3\n",
    "import chess\n",
    "import graphviz\n",
    "import chess.polyglot"
   ]
  },
  {
   "cell_type": "code",
   "execution_count": 2,
   "id": "7d9eef7b",
   "metadata": {},
   "outputs": [],
   "source": [
    "torch.cuda.set_device(0)\n",
    "device = torch.device('cuda')\n",
    "loss_function = nn.MSELoss()"
   ]
  },
  {
   "cell_type": "code",
   "execution_count": 3,
   "id": "db3e478d",
   "metadata": {},
   "outputs": [],
   "source": [
    "class Model(nn.Module):\n",
    "    def __init__(self):\n",
    "        super().__init__()\n",
    "        self.layers = nn.Sequential(\n",
    "            nn.Linear(384, 16),\n",
    "#             nn.BatchNorm1d(16),\n",
    "            nn.ReLU(),\n",
    "            nn.Linear(16, 16),\n",
    "#             nn.BatchNorm1d(16),\n",
    "            nn.ReLU(),\n",
    "            nn.Linear(16, 1),\n",
    "        )\n",
    "        for i in range(len(self.layers)):\n",
    "            if isinstance(self.layers[i], nn.Linear):\n",
    "                nn.init.kaiming_normal_(self.layers[i].weight, mode='fan_out', nonlinearity='relu')\n",
    "    def forward(self, x):\n",
    "        return self.layers(x)"
   ]
  },
  {
   "cell_type": "code",
   "execution_count": 4,
   "id": "ac1131f5",
   "metadata": {
    "scrolled": true
   },
   "outputs": [
    {
     "data": {
      "text/plain": [
       "Model(\n",
       "  (layers): Sequential(\n",
       "    (0): Linear(in_features=384, out_features=16, bias=True)\n",
       "    (1): ReLU()\n",
       "    (2): Linear(in_features=16, out_features=16, bias=True)\n",
       "    (3): ReLU()\n",
       "    (4): Linear(in_features=16, out_features=1, bias=True)\n",
       "  )\n",
       ")"
      ]
     },
     "execution_count": 4,
     "metadata": {},
     "output_type": "execute_result"
    }
   ],
   "source": [
    "model = Model()\n",
    "# model = torch.load(\"yw.pt\")\n",
    "optimizer = torch.optim.Adam(model.parameters(), lr=1e-3)\n",
    "model.to(device)"
   ]
  },
  {
   "cell_type": "code",
   "execution_count": 5,
   "id": "d27e5972",
   "metadata": {},
   "outputs": [],
   "source": [
    "def fen_to_bitboard(fen):\n",
    "    f = torch.zeros((6, 64))\n",
    "    board = chess.Board(fen)\n",
    "    if board.turn == chess.WHITE:\n",
    "        a = 1\n",
    "        b = -1\n",
    "    if board.turn == chess.BLACK:\n",
    "        a = -1\n",
    "        b = 1\n",
    "    f[0][list(board.pieces(chess.PAWN, chess.WHITE))] = a\n",
    "    f[1][list(board.pieces(chess.KNIGHT, chess.WHITE))] = a\n",
    "    f[2][list(board.pieces(chess.ROOK, chess.WHITE))] = a\n",
    "    f[3][list(board.pieces(chess.BISHOP, chess.WHITE))] = a\n",
    "    f[4][list(board.pieces(chess.QUEEN, chess.WHITE))] = a\n",
    "    f[5][list(board.pieces(chess.KING, chess.WHITE))] = a\n",
    "    \n",
    "    f[0][list(board.pieces(chess.PAWN, chess.BLACK))] = b\n",
    "    f[1][list(board.pieces(chess.KNIGHT, chess.BLACK))] = b\n",
    "    f[2][list(board.pieces(chess.ROOK, chess.BLACK))] = b\n",
    "    f[3][list(board.pieces(chess.BISHOP, chess.BLACK))] = b\n",
    "    f[4][list(board.pieces(chess.QUEEN, chess.BLACK))] = b\n",
    "    f[5][list(board.pieces(chess.KING, chess.BLACK))] = b\n",
    "    \n",
    "    return f.view(1, 384)"
   ]
  },
  {
   "cell_type": "code",
   "execution_count": 6,
   "id": "97bc3d0e",
   "metadata": {},
   "outputs": [],
   "source": [
    "con = sqlite3.connect('test.db')\n",
    "cur = con.cursor()"
   ]
  },
  {
   "cell_type": "code",
   "execution_count": 9,
   "id": "8a313df0",
   "metadata": {},
   "outputs": [],
   "source": [
    "def fen_to_zobrist(fen):\n",
    "    f = torch.zeros(1, 64)\n",
    "    board = chess.Board(fen)\n",
    "    for i, val in enumerate(list('{0:0b}'.format(chess.polyglot.zobrist_hash(board)))):\n",
    "        if val == \"1\":\n",
    "            f[0][i] = 1\n",
    "    return f"
   ]
  },
  {
   "cell_type": "code",
   "execution_count": 7,
   "id": "dbabe13e",
   "metadata": {},
   "outputs": [],
   "source": [
    "def transform(evaluation, fen):\n",
    "    board = chess.Board(fen)\n",
    "    if board.turn == chess.WHITE:\n",
    "        return (np.arctan(1/2 * evaluation) + np.pi/2)/(np.pi)\n",
    "    else:\n",
    "        return 1 - ((np.arctan(1/2 * evaluation) + np.pi/2)/(np.pi))\n",
    "    "
   ]
  },
  {
   "cell_type": "code",
   "execution_count": 14,
   "id": "8a5efee3",
   "metadata": {},
   "outputs": [],
   "source": [
    "size = 1000000\n",
    "# training dataset\n",
    "fens_ = cur.execute(f\"SELECT fen FROM evaluations LIMIT {size}\")\n",
    "fens = fens_.fetchall()\n",
    "# board = chess.Board()\n",
    "# tensors = []\n",
    "# tensors = [fen_to_zobrist(fens[i][0]) for i in range(size)]\n",
    "# bits = torch.cat(tensors, dim=0)\n",
    "# with open('johnZobrist.npy', 'wb') as f:\n",
    "#     np.save(f, bits)\n",
    "\n",
    "evals_ = cur.execute(f\"SELECT eval FROM evaluations LIMIT {size}\")\n",
    "evals = evals_.fetchall()\n",
    "\n",
    "temp = [transform(evals[i][0], fens[i][0]) for i in range(size)]\n",
    "evaluations = torch.tensor(temp, dtype=torch.float32)\n",
    "with open('labels2.npy', 'wb') as f:\n",
    "    np.save(f, evaluations)\n",
    "\n",
    "\n",
    "# evaluation dataset\n",
    "# eval_size = 10000\n",
    "# e_fen_ = cur.execute(f\"SELECT fen FROM evaluations WHERE id > {size} LIMIT {eval_size}\")\n",
    "# e_fen = e_fen_.fetchall()\n",
    "# tensors = [fen_to_bitboard(e_fen[i][0]) for i in range(eval_size)]\n",
    "# bits = torch.cat(tensors, dim=0)\n",
    "# with open('eval_examples.npy', 'wb') as f:\n",
    "#     np.save(f, bits)\n",
    "\n",
    "# evaluation_ = cur.execute(f\"SELECT eval FROM evaluations WHERE id > {size} LIMIT {eval_size}\")\n",
    "# evaluation = evaluation_.fetchall()\n",
    "# temp = [((np.arctan(1/2 * evaluation[i][0]) + np.pi/2)/(np.pi)) for i in range(eval_size)]\n",
    "# evaluations = torch.tensor(temp)\n",
    "# with open('eval_labels.npy', 'wb') as f:\n",
    "#     np.save(f, evaluations)\n",
    "\n",
    "# plt.style.use('_mpl-gallery')\n",
    "\n",
    "# # make data\n",
    "# np.random.seed(1)\n",
    "\n",
    "# # plot:\n",
    "# fig, ax = plt.subplots()\n",
    "\n",
    "# ax.hist(x, bins=100, linewidth=0.5, edgecolor=\"white\")\n",
    "\n",
    "# ax.set(xlim=(-2, 2), xticks=np.arange(1, 1),\n",
    "#        ylim=(0, 1000), yticks=np.linspace(0, 1000, 9))\n",
    "\n",
    "# plt.show()"
   ]
  },
  {
   "cell_type": "code",
   "execution_count": 7,
   "id": "6dd4aa26",
   "metadata": {},
   "outputs": [],
   "source": [
    "losses = []\n",
    "# eval_losses = []\n",
    "\n",
    "bits = torch.from_numpy(np.load(\"bits384.npy\")).to(device)\n",
    "labels = torch.from_numpy(np.load(\"labels2.npy\")).to(device)\n",
    "\n",
    "# eval_examples = torch.from_numpy(np.load(\"eval_examples.npy\")).to(device)\n",
    "# eval_labels = torch.from_numpy(np.load(\"eval_labels.npy\")).to(device)"
   ]
  },
  {
   "cell_type": "code",
   "execution_count": 8,
   "id": "124093ea",
   "metadata": {
    "scrolled": false
   },
   "outputs": [],
   "source": [
    "# model training\n",
    "# https://stackoverflow.com/questions/45113245/how-to-get-mini-batches-in-pytorch-in-a-clean-and-efficient-way\n",
    "n_epochs = 100 # or whatever\n",
    "batch_size = 128 # or whatever\n",
    "\n",
    "for epoch in range(n_epochs):\n",
    "    # X is a torch Variable\n",
    "    permutation = torch.randperm(bits.size()[0])\n",
    "#     eval_permutation = torch.randperm(bits.size()[0])\n",
    "#     for i in range(0, eval_examples.size()[0], batch_size):\n",
    "#         indices = eval_permutation[i:i+batch_size]\n",
    "#         batch_x, batch_y = bits[indices], labels[indices]\n",
    "#         outputs = model(batch_x)\n",
    "        \n",
    "#         loss = loss_function(outputs, batch_y.view(-1, 1))\n",
    "#         eval_losses.append(loss.item())\n",
    "        \n",
    "    for i in range(0, bits.size()[0], batch_size):\n",
    "        optimizer.zero_grad()\n",
    "\n",
    "        indices = permutation[i:i+batch_size]\n",
    "        batch_x, batch_y = bits[indices], labels[indices]\n",
    "        \n",
    "        outputs = model(batch_x)\n",
    "        loss = loss_function(outputs, batch_y.view(-1, 1))\n",
    "        losses.append(loss.item())\n",
    "\n",
    "        loss.backward()\n",
    "        optimizer.step()"
   ]
  },
  {
   "cell_type": "code",
   "execution_count": 9,
   "id": "9d1e01b6",
   "metadata": {
    "scrolled": false
   },
   "outputs": [
    {
     "data": {
      "image/png": "[encoded data removed]",
      "text/plain": [
       "<Figure size 640x480 with 1 Axes>"
      ]
     },
     "metadata": {},
     "output_type": "display_data"
    }
   ],
   "source": [
    "start = 10000\n",
    "smooth = 1\n",
    "\n",
    "x = np.arange(len(losses)/smooth)\n",
    "y = torch.tensor(losses).view(smooth, -1).mean(0)\n",
    "plt.plot(x[start:], y[start:])\n",
    "\n",
    "# e_x = np.arange(0, (len(eval_losses)/smooth) * 100, 100)\n",
    "# e_y = torch.tensor(eval_losses).view(smooth, -1).mean(0)\n",
    "# plt.plot(e_x[int(start/100):], e_y[int(start/100):])\n",
    "\n",
    "# plt.ylim(0, 0.005)\n",
    "plt.show()"
   ]
  },
  {
   "cell_type": "code",
   "execution_count": 10,
   "id": "efda34ef",
   "metadata": {},
   "outputs": [
    {
     "data": {
      "text/plain": [
       "0.018800554275512697"
      ]
     },
     "execution_count": 10,
     "metadata": {},
     "output_type": "execute_result"
    }
   ],
   "source": [
    "sum(losses[len(losses) - 100:]) / 100"
   ]
  },
  {
   "cell_type": "code",
   "execution_count": 60,
   "id": "c46178a8",
   "metadata": {
    "scrolled": true
   },
   "outputs": [
    {
     "name": "stdout",
     "output_type": "stream",
     "text": [
      "tensor([[208., 202., 204., 215., 204., 208., 218., 225., 222., 219., 212., 205.,\n",
      "         210., 183., 176., 239.],\n",
      "        [215., 194., 205., 205., 195., 207., 197., 204., 204., 212., 198., 215.,\n",
      "         204., 196., 194., 198.],\n",
      "        [212., 141., 199., 233., 144., 207., 189., 189., 203., 218., 153., 242.,\n",
      "         218., 183., 189., 181.],\n",
      "        [212., 198., 197., 203., 196., 208., 192., 201., 206., 206., 200., 214.,\n",
      "         199., 197., 192., 194.],\n",
      "        [173., 244., 197., 192., 231., 199., 212., 207., 194., 179., 238., 168.,\n",
      "         180., 218., 222., 219.],\n",
      "        [180., 255., 188., 173., 243., 196., 210., 218., 200., 197., 209., 167.,\n",
      "         196., 228., 207., 122.],\n",
      "        [210., 174., 203., 216., 180., 196., 212., 204., 211., 197., 166., 225.,\n",
      "         210., 184., 190., 194.],\n",
      "        [201., 208., 203., 216., 208., 216., 217., 242., 173., 222., 219., 204.,\n",
      "         215., 178., 216., 196.],\n",
      "        [206., 192., 206., 212., 196., 196., 152., 219., 206., 207.,   0., 214.,\n",
      "         209., 198., 202., 135.],\n",
      "        [212., 197., 207., 205., 195., 209., 198., 204., 205., 203., 203., 210.,\n",
      "         200., 199., 199., 198.],\n",
      "        [222., 174., 204., 215., 165., 227., 168., 163., 204., 137., 197., 220.,\n",
      "         198., 187., 184., 195.],\n",
      "        [213., 185., 198., 208., 187., 203., 182., 194., 204., 205., 195., 219.,\n",
      "         202., 193., 199., 192.],\n",
      "        [224., 184., 211., 209., 191., 216., 180., 197., 205., 188., 197., 222.,\n",
      "         192., 186., 195., 191.],\n",
      "        [193., 214., 201., 201., 213., 196., 218., 206., 200., 199., 202., 196.,\n",
      "         204., 211., 210., 208.],\n",
      "        [210., 197., 200., 204., 194., 214., 202., 204., 208., 164., 196., 208.,\n",
      "         197., 194., 185., 186.],\n",
      "        [178., 240., 196., 188., 227., 197., 207., 196., 198., 194., 214., 172.,\n",
      "         198., 226., 214., 181.]])\n"
     ]
    },
    {
     "data": {
      "image/png": "[encoded data removed]",
      "text/plain": [
       "<Figure size 640x480 with 1 Axes>"
      ]
     },
     "metadata": {},
     "output_type": "display_data"
    }
   ],
   "source": [
    "size = 1000\n",
    "# training dataset\n",
    "fens_ = cur.execute(f\"SELECT fen FROM evaluations LIMIT {size}\")\n",
    "fens = fens_.fetchall()\n",
    "\n",
    "fig, ax = plt.subplots()\n",
    "\n",
    "relu = nn.ReLU()\n",
    "\n",
    "qmin = 0\n",
    "qmax = 255\n",
    "\n",
    "w = list(model.parameters())\n",
    "\n",
    "w1 = w[0].detach().cpu()\n",
    "w1_S = (w1.max() - w1.min()) / (qmax - qmin)\n",
    "w1_Z = qmin - (w1.min() / w1_S)\n",
    "q_w1 = (w1 / w1_S + w1_Z).clamp(qmin, qmax).round()\n",
    "\n",
    "b1 = w[1].detach().cpu()\n",
    "# q_b1 = (b1/w1_S + 0).clamp(-2147483648, 2147483647).round() # this clamping doesn't do anything :)\n",
    "\n",
    "w2 = w[2].detach().cpu()\n",
    "w2_S = (w2.max() - w2.min()) / (qmax - qmin)\n",
    "w2_Z = qmin - (w2.min() / w2_S)\n",
    "q_w2 = (w2 / w2_S + w2_Z).clamp(qmin, qmax).round()\n",
    "\n",
    "b2 = w[3].detach().cpu()\n",
    "# q_b2 = (b2/w2_S + 0).clamp(-2147483648, 2147483647).round()\n",
    "\n",
    "w3 = w[4].detach().cpu()\n",
    "w3_S = (w3.max() - w3.min()) / (qmax - qmin)\n",
    "w3_Z = qmin - (w3.min() / w3_S)\n",
    "q_w3 = (w3 / w3_S + w3_Z).clamp(qmin, qmax).round()\n",
    "\n",
    "b3 = w[5].detach().cpu()\n",
    "# q_b3 = (b3/w3_S + 0).clamp(-2147483648, 2147483647).round()\n",
    "\n",
    "# L = []\n",
    "# for i in w1.int():\n",
    "#     L.append(i.item())\n",
    "# print(L)\n",
    "# real = []\n",
    "# quant = []\n",
    "# quants = 0\n",
    "# quantz = 0\n",
    "for i in range(100):\n",
    "    fen = fens[i][0]\n",
    "    a = fen_to_bitboard(fen)\n",
    "    \n",
    "#     # real\n",
    "    r = (a @ w1.T) + b1\n",
    "    r = relu(r)\n",
    "    r = (r @ w2.T) + b2\n",
    "    r = relu(r)\n",
    "    r = (r @ w3.T) + b3\n",
    "    \n",
    "\n",
    "#     # quant\n",
    "    q = (a @ (q_w1.T - w1_Z) * w1_S) + b1\n",
    "    q = relu(q)\n",
    "    q = (q @ (q_w2.T - w2_Z) * w2_S) + b2\n",
    "    q = relu(q)\n",
    "    q = (q @ (q_w3.T - w3_Z) * w3_S) + b3\n",
    "    \n",
    "#     real.append(r[0][0].item())\n",
    "#     quant.append(q[0][0].item())\n",
    "#     quants += -torch.min(q)+torch.max(q)\n",
    "#     quantz += (torch.min(q)+torch.max(q))/2\n",
    "# plt.scatter(real, quant)\n",
    "print(q_w2.T)\n",
    "# plt.hist(w3.view(1, -1), 100);\n",
    "# print(quants/1000)\n",
    "# print(quantz/1000)\n",
    "\n",
    "# print(r)\n",
    "# print(q)\n",
    "# print(q)\n",
    "# for i in b3:\n",
    "#     print(i.item(), end=\", \")"
   ]
  },
  {
   "cell_type": "code",
   "execution_count": 109,
   "id": "1d073b4c",
   "metadata": {},
   "outputs": [
    {
     "name": "stdout",
     "output_type": "stream",
     "text": [
      "tensor([0.5978])\n"
     ]
    }
   ],
   "source": [
    "print(b3)"
   ]
  },
  {
   "cell_type": "code",
   "execution_count": 155,
   "id": "fe829b47",
   "metadata": {},
   "outputs": [
    {
     "data": {
      "text/plain": [
       "<matplotlib.image.AxesImage at 0x277a070d780>"
      ]
     },
     "execution_count": 155,
     "metadata": {},
     "output_type": "execute_result"
    },
    {
     "data": {
      "image/png": "[encoded data removed]",
      "text/plain": [
       "<Figure size 640x480 with 1 Axes>"
      ]
     },
     "metadata": {},
     "output_type": "display_data"
    }
   ],
   "source": [
    "b = fen_to_bitboard(\"r1bqkbnr/pppppppp/n7/8/1P6/2N5/P1PPPPPP/R1BQKBNR b KQkq b3 0 2\")\n",
    "a = torch.tensor((0, 0, 0, 0, 0, 0, 0, 0, -1, 0, -1, -1, -1, -1, -1, -1, 0, 0, 0, 0, 0, 0, 0, 0, 0, -1, 0, 0, 0, 0, 0, 0, 0, 0, 0, 0, 0, 0, 0, 0, 0, 0, 0, 0, 0, 0, 0, 0, 1, 1, 1, 1, 1, 1, 1, 1, 0, 0, 0, 0, 0, 0, 0, 0, 0, 0, 0, 0, 0, 0, -1, 0, 0, 0, 0, 0, 0, 0, 0, 0, 0, 0, -1, 0, 0, 0, 0, 0, 0, 0, 0, 0, 0, 0, 0, 0, 0, 0, 0, 0, 0, 0, 0, 0, 1, 0, 0, 0, 0, 0, 0, 0, 0, 0, 0, 0, 0, 0, 0, 0, 0, 0, 0, 0, 0, 0, 1, 0, -1, 0, 0, 0, 0, 0, 0, -1, 0, 0, 0, 0, 0, 0, 0, 0, 0, 0, 0, 0, 0, 0, 0, 0, 0, 0, 0, 0, 0, 0, 0, 0, 0, 0, 0, 0, 0, 0, 0, 0, 0, 0, 0, 0, 0, 0, \n",
    "0, 0, 0, 0, 0, 0, 0, 0, 0, 0, 1, 0, 0, 0, 0, 0, 0, 1, 0, 0, -1, 0, 0, -1, 0, 0, 0, 0, 0, 0, 0, 0, 0, 0, 0, 0, 0, 0, 0, 0, 0, 0, 0, 0, 0, 0, 0, 0, 0, 0, 0, 0, 0, 0, 0, 0, 0, 0, 0, 0, 0, 0, 0, 0, 0, 0, 0, 0, 0, 0, 0, 0, 0, 0, 0, 0, 1, 0, 0, 1, 0, 0, 0, 0, 0, -1, 0, 0, 0, 0, 0, 0, 0, 0, 0, 0, 0, 0, 0, 0, 0, 0, 0, 0, 0, 0, 0, 0, 0, 0, 0, 0, 0, 0, 0, 0, 0, 0, 0, 0, 0, 0, 0, 0, 0, 0, 0, 0, 0, 0, 0, 0, 0, 0, 0, 0, 0, 0, 0, 0, 0, 1, 0, 0, 0, 0, 0, 0, 0, 0, -1, 0, 0, 0, 0, 0, 0, 0, 0, 0, 0, 0, 0, 0, 0, 0, 0, 0, 0, 0, 0, 0, 0, 0, 0, 0, 0, 0, 0, 0, 0, 0, 0, 0, 0, 0, 0, 0, 0, 0, 0, 0, 0, 0, 0, 0, 0, 0, 0, 0, 0, 0, 0, 0, 0, 0, 1, 0, 0, 0,))\n",
    "plt.imshow(b.view(6, -1) - a.view(6, -1))\n"
   ]
  },
  {
   "cell_type": "code",
   "execution_count": 119,
   "id": "778dd1ce",
   "metadata": {
    "scrolled": true
   },
   "outputs": [
    {
     "data": {
      "text/plain": [
       "'1111'"
      ]
     },
     "execution_count": 119,
     "metadata": {},
     "output_type": "execute_result"
    }
   ],
   "source": [
    "'{0:04b}'.format(15)"
   ]
  },
  {
   "cell_type": "code",
   "execution_count": 64,
   "id": "9c6f636a",
   "metadata": {
    "scrolled": true
   },
   "outputs": [
    {
     "name": "stdout",
     "output_type": "stream",
     "text": [
      "[4827739272251193548, 11617604531046626762]\n"
     ]
    }
   ],
   "source": [
    "compressed = []\n",
    "L = list([int(i.item()) for i in q_w3.T.flatten()])\n",
    "for param in range(int(len(L)/bits)):\n",
    "    string = \"\"\n",
    "    for number in L[param*8:param*8+8]:\n",
    "        string += '{0:08b}'.format(number)\n",
    "#     print(string)\n",
    "    compressed.append(int(string, 2))\n",
    "print(compressed)"
   ]
  },
  {
   "cell_type": "code",
   "execution_count": 115,
   "id": "72b3c4f6",
   "metadata": {},
   "outputs": [
    {
     "data": {
      "text/plain": [
       "64"
      ]
     },
     "execution_count": 115,
     "metadata": {},
     "output_type": "execute_result"
    }
   ],
   "source": [
    "abd = '{0:064b}'.format(100000)\n",
    "len(abd)"
   ]
  },
  {
   "cell_type": "code",
   "execution_count": 126,
   "id": "8a69a342",
   "metadata": {},
   "outputs": [],
   "source": [
    "def evaluation(fen):\n",
    "    model.eval()\n",
    "    score  = model(fen_to_bitboard(fen).to(device))\n",
    "    model.train()\n",
    "    return score.item()"
   ]
  },
  {
   "cell_type": "code",
   "execution_count": 7,
   "id": "fc3bd93b",
   "metadata": {},
   "outputs": [],
   "source": [
    "class Node():\n",
    "    def __init__(self, fen, parent, color, move):\n",
    "        self.fen = fen\n",
    "        self.parent = parent\n",
    "        self.children = None\n",
    "        self.visits = 0\n",
    "        self.prior = 0\n",
    "        self.wins = 0\n",
    "        self.color = color\n",
    "        self.move = move"
   ]
  },
  {
   "cell_type": "code",
   "execution_count": 9,
   "id": "bd9d555f",
   "metadata": {},
   "outputs": [],
   "source": [
    "def minimax(board, depth, alpha, beta):\n",
    "    moves = list(board.legal_moves)\n",
    "    if depth == 1:\n",
    "        tensors = []\n",
    "        for m in moves:\n",
    "            board.push(m)\n",
    "            tensors.append(fen_to_bitboard(board.fen()).to(device))\n",
    "            board.pop()\n",
    "        model.eval()\n",
    "        logits = model(torch.cat(tensors, dim=0))\n",
    "        model.train()\n",
    "        if board.turn == chess.WHITE:\n",
    "            return torch.max(logits).item(), None\n",
    "        else:\n",
    "            return torch.min(logits).item(), None\n",
    "    if board.turn == chess.WHITE:\n",
    "        maxScore = -1000\n",
    "        best_move = None\n",
    "        for m in moves:\n",
    "            board.push(m)\n",
    "            score, _ = minimax(board, depth-1, alpha, beta)\n",
    "            if score > maxScore:\n",
    "                maxScore = score\n",
    "                best_move = m\n",
    "            board.pop()\n",
    "            alpha = max(alpha, score)\n",
    "            if beta <= alpha:\n",
    "                break\n",
    "        if depth < 4:\n",
    "            return maxScore, None\n",
    "        if depth == 4:\n",
    "            return maxScore, best_move\n",
    "    else:\n",
    "        minScore = 1000\n",
    "        best_move = None\n",
    "        for m in moves:\n",
    "            board.push(m)\n",
    "            score, _ = minimax(board, depth-1, alpha, beta)\n",
    "            if score < minScore:\n",
    "                minScore = score\n",
    "                best_move = m\n",
    "            board.pop()\n",
    "            beta = min(beta, score)\n",
    "            if beta <= alpha:\n",
    "                break\n",
    "        if depth < 4:\n",
    "            return minScore, None\n",
    "        if depth == 4:\n",
    "            return minScore, best_move"
   ]
  },
  {
   "cell_type": "code",
   "execution_count": 131,
   "id": "ef546f8e",
   "metadata": {},
   "outputs": [],
   "source": [
    "def expand_node(node, color):\n",
    "    board = chess.Board(node.fen)\n",
    "    moves = list(board.legal_moves)\n",
    "    nodes = []\n",
    "    \n",
    "    tensors = []\n",
    "\n",
    "    for move in moves:\n",
    "        board.push(move)\n",
    "        n = Node(board.fen(), node, board.turn, move)\n",
    "        nodes.append(n)\n",
    "        tensors.append(fen_to_bitboard(n.fen).to(device))\n",
    "        board.pop()\n",
    "\n",
    "    node.children = nodes\n",
    "    \n",
    "    if len(node.children) > 0:\n",
    "        model.eval()\n",
    "        logits = model(torch.cat(tensors, dim=0))\n",
    "        \n",
    "        if node.color == False:\n",
    "            for i, child in enumerate(node.children):\n",
    "                child.prior = (1 - logits[i].item())\n",
    "            return float(1 - sum(logits) / len(logits))\n",
    "        else:\n",
    "            for i, child in enumerate(node.children):\n",
    "                child.prior = (logits[i].item())\n",
    "            return float(sum(logits) / len(logits))\n",
    "        model.train()\n",
    "\n",
    "def select_child(node):\n",
    "    best_node = None\n",
    "    \n",
    "    best = -np.inf\n",
    "    for child in node.children:\n",
    "        if child.visits > 0:\n",
    "            val = child.wins / child.visits + np.sqrt(2) * np.sqrt(np.log(node.visits) / (child.visits))\n",
    "        else:\n",
    "            val = child.prior + np.sqrt(2) * np.sqrt(np.log(node.visits) / (child.visits + 1))\n",
    "#         print(f\"{child.move} {child.visits} {child.prior:.3f} {child.wins:.3f} {val:.4f} {node.visits}\")\n",
    "        if val > best:\n",
    "            best = val\n",
    "            best_node = child\n",
    "    \n",
    "#     print(best_node.move)\n",
    "    return best_node\n",
    "\n",
    "def backpropagate(node, score, color):\n",
    "    while node is not None:\n",
    "        node.visits += 1\n",
    "        if color == node.color:\n",
    "            node.wins += score\n",
    "        else:\n",
    "            node.wins += (1 - score)\n",
    "        node = node.parent\n",
    "\n",
    "def search(board):\n",
    "    root = Node(board.fen(), None, board.turn, None)\n",
    "\n",
    "    for _ in range(1000):\n",
    "        # Selection and expansion\n",
    "        current = root\n",
    "        while current.children is not None:\n",
    "            current = select_child(current)\n",
    "#         print()\n",
    "\n",
    "        if current.visits == 0:\n",
    "            # If the node has not been visited yet, expand it\n",
    "            score = expand_node(current, current.color)\n",
    "\n",
    "        # Simulation\n",
    "        score = current.prior\n",
    "\n",
    "        # Backpropagation\n",
    "        backpropagate(current, score, current.color)\n",
    "\n",
    "    # Choose the best move based on visits\n",
    "    best_visits = -1\n",
    "    best_move = \"\"\n",
    "\n",
    "    for node in root.children:\n",
    "        print(f\"{node.move} {node.visits} {node.prior:.3f} {node.wins:.3f} {(node.wins/(node.visits)):.4f}\")\n",
    "        if node.visits > best_visits:\n",
    "            best_visits = node.visits\n",
    "            best_move = node.move\n",
    "    \n",
    "    return best_move"
   ]
  },
  {
   "cell_type": "code",
   "execution_count": 132,
   "id": "60b8154a",
   "metadata": {
    "scrolled": false
   },
   "outputs": [
    {
     "name": "stdout",
     "output_type": "stream",
     "text": [
      "h8g8 27 0.259 11.112 0.4116\n",
      "f8e7 38 0.407 19.795 0.5209\n",
      "f8d6 31 0.369 14.227 0.4589\n",
      "f8c5 38 0.448 19.967 0.5254\n",
      "f8b4 29 0.421 12.479 0.4303\n",
      "f8a3 33 0.374 15.699 0.4757\n",
      "e8e7 22 0.253 7.216 0.3280\n",
      "d8e7 28 0.341 11.821 0.4222\n",
      "a8b8 29 0.345 12.717 0.4385\n",
      "f6g8 26 0.292 10.107 0.3887\n",
      "f6h5 30 0.332 13.336 0.4445\n",
      "f6d5 22 0.178 7.280 0.3309\n",
      "f6g4 30 0.310 13.393 0.4464\n",
      "f6e4 76 0.428 53.398 0.7026\n",
      "c6b8 25 0.247 9.324 0.3730\n",
      "c6e7 24 0.225 8.710 0.3629\n",
      "c6a5 38 0.358 19.897 0.5236\n",
      "c6d4 31 0.260 14.284 0.4608\n",
      "c6b4 30 0.279 13.434 0.4478\n",
      "h7h6 36 0.425 18.279 0.5078\n",
      "g7g6 28 0.285 11.779 0.4207\n",
      "d7d6 34 0.387 16.512 0.4856\n",
      "b7b6 27 0.295 11.097 0.4110\n",
      "a7a6 31 0.415 14.282 0.4607\n",
      "h7h5 26 0.290 10.174 0.3913\n",
      "g7g5 24 0.238 8.689 0.3621\n",
      "d7d5 104 0.346 79.398 0.7634\n",
      "b7b5 50 0.364 30.130 0.6026\n",
      "a7a5 32 0.354 14.934 0.4667\n"
     ]
    },
    {
     "data": {
      "text/plain": [
       "Move.from_uci('d7d5')"
      ]
     },
     "execution_count": 132,
     "metadata": {},
     "output_type": "execute_result"
    }
   ],
   "source": [
    "fen = \"r1bqkb1r/pppp1ppp/2n2n2/4p3/2B1P3/3P1N2/PPP2PPP/RNBQK2R b KQkq - 0 4\"\n",
    "board = chess.Board(fen)\n",
    "# print(minimax(board, 4, -1000000, 1000000))\n",
    "search(board)"
   ]
  },
  {
   "cell_type": "code",
   "execution_count": 28,
   "id": "90eae826",
   "metadata": {
    "scrolled": false
   },
   "outputs": [
    {
     "name": "stdout",
     "output_type": "stream",
     "text": [
      "-0.04337083548307419 a5b6\n",
      "-0.03220266103744507 a5a6\n",
      "-0.04406551271677017 a5b4\n",
      "a5a6\n",
      "-0.039879669745763145\n"
     ]
    }
   ],
   "source": [
    "# white\n",
    "fen = \"8/8/8/KP1q1k2/P7/8/8/8 w - - 1 61\"\n",
    "board = chess.Board(fen)\n",
    "moves = list(board.legal_moves)\n",
    "\n",
    "scores = []\n",
    "best_score = -1000\n",
    "best_move = \"\"\n",
    "for m in moves:\n",
    "    board.push(m)\n",
    "    score = evaluation(board.fen())\n",
    "    scores.append(score)\n",
    "    print(str(score) + \" \" + str(m))\n",
    "    if score > best_score:\n",
    "        best_score = score\n",
    "        best_move = m\n",
    "    board.pop()\n",
    "print(best_move)\n",
    "print(sum(scores) / len(scores))"
   ]
  },
  {
   "cell_type": "code",
   "execution_count": 151,
   "id": "34d1cbd7",
   "metadata": {},
   "outputs": [
    {
     "name": "stdout",
     "output_type": "stream",
     "text": [
      "0.6327685117721558 g8h6\n",
      "0.5197541117668152 g8f6\n",
      "0.5325714945793152 b8c6\n",
      "0.617791473865509 b8a6\n",
      "0.5621401071548462 h7h6\n",
      "0.5904552340507507 g7g6\n",
      "0.6212249398231506 f7f6\n",
      "0.5498663783073425 e7e6\n",
      "0.5725527405738831 d7d6\n",
      "0.5389397740364075 c7c6\n",
      "0.6050955653190613 b7b6\n",
      "0.5527474284172058 a7a6\n",
      "0.5792731642723083 h7h5\n",
      "0.5960764288902283 g7g5\n",
      "0.6033186316490173 f7f5\n",
      "0.5705104470252991 e7e5\n",
      "0.529662013053894 d7d5\n",
      "0.568905234336853 c7c5\n",
      "0.5642254948616028 b7b5\n",
      "0.5675585269927979 a7a5\n",
      "g8f6\n"
     ]
    }
   ],
   "source": [
    "# black\n",
    "fen = \"rnbqkbnr/pppppppp/8/8/4P3/8/PPPP1PPP/RNBQKBNR b KQkq e3 0 1\"\n",
    "board = chess.Board(fen)\n",
    "moves = list(board.legal_moves)\n",
    "\n",
    "scores = []\n",
    "best_score = 1000\n",
    "best_move = \"\"\n",
    "for m in moves:\n",
    "    board.push(m)\n",
    "    score = evaluation(board.fen())\n",
    "    scores.append(score)\n",
    "    print(f\"{score} {m}\")\n",
    "    if score < best_score:\n",
    "        best_score = score\n",
    "        best_move = m\n",
    "    board.pop()\n",
    "print(best_move)\n",
    "# print(1 - sum(scores) / len(scores))"
   ]
  },
  {
   "cell_type": "code",
   "execution_count": 39,
   "id": "2ef413cd",
   "metadata": {},
   "outputs": [
    {
     "data": {
      "text/plain": [
       "[<matplotlib.lines.Line2D at 0x11d93d589d0>]"
      ]
     },
     "execution_count": 39,
     "metadata": {},
     "output_type": "execute_result"
    },
    {
     "data": {
      "image/png": "[encoded data removed]",
      "text/plain": [
       "<Figure size 640x480 with 1 Axes>"
      ]
     },
     "metadata": {},
     "output_type": "display_data"
    }
   ],
   "source": [
    "x = np.arange(-1, 9, .05)\n",
    "y = np.arange(-10, 10, .1)\n",
    "plt.plot(x, y)\n",
    "y = [np.ceil(max(0, i)) for i in y]\n",
    "plt.plot(x, y)\n",
    "x = np.arange(-1, 9, .05)\n",
    "y = np.arange(-10, 10, .1)\n",
    "y = [np.tan(i) for i in y]\n",
    "plt.plot(x, y)"
   ]
  },
  {
   "cell_type": "code",
   "execution_count": null,
   "id": "a987689c",
   "metadata": {},
   "outputs": [],
   "source": []
  }
 ],
 "metadata": {
  "kernelspec": {
   "display_name": "Python 3 (ipykernel)",
   "language": "python",
   "name": "python3"
  },
  "language_info": {
   "codemirror_mode": {
    "name": "ipython",
    "version": 3
   },
   "file_extension": ".py",
   "mimetype": "text/x-python",
   "name": "python",
   "nbconvert_exporter": "python",
   "pygments_lexer": "ipython3",
   "version": "3.10.6"
  }
 },
 "nbformat": 4,
 "nbformat_minor": 5
}
