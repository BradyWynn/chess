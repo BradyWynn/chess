{
 "cells": [
  {
   "cell_type": "raw",
   "id": "81054546",
   "metadata": {},
   "source": [
    "https://www.ficsgames.org/download.html"
   ]
  },
  {
   "cell_type": "code",
   "execution_count": 1,
   "id": "92d51064",
   "metadata": {},
   "outputs": [],
   "source": [
    "import numpy as np\n",
    "import matplotlib.pyplot as plt\n",
    "from torch import nn\n",
    "import torch\n",
    "import chess.pgn\n",
    "from stockfish import Stockfish\n",
    "import sqlite3\n",
    "import chess"
   ]
  },
  {
   "cell_type": "code",
   "execution_count": 2,
   "id": "7d9eef7b",
   "metadata": {},
   "outputs": [],
   "source": [
    "torch.cuda.set_device(0)\n",
    "device = torch.device('cuda')\n",
    "loss_function = nn.MSELoss()"
   ]
  },
  {
   "cell_type": "code",
   "execution_count": 3,
   "id": "db3e478d",
   "metadata": {},
   "outputs": [],
   "source": [
    "class Model(nn.Module):\n",
    "    def __init__(self):\n",
    "        super().__init__()\n",
    "        self.layers = nn.Sequential(\n",
    "            nn.Linear(768, 2048),\n",
    "            nn.BatchNorm1d(2048),\n",
    "            nn.ReLU(),\n",
    "            nn.Linear(2048, 2048),\n",
    "            nn.BatchNorm1d(2048),\n",
    "            nn.ReLU(),\n",
    "            nn.Linear(2048, 1),\n",
    "        )\n",
    "    def forward(self, x):\n",
    "        return self.layers(x)"
   ]
  },
  {
   "cell_type": "code",
   "execution_count": 4,
   "id": "ac1131f5",
   "metadata": {
    "scrolled": true
   },
   "outputs": [
    {
     "data": {
      "text/plain": [
       "Model(\n",
       "  (layers): Sequential(\n",
       "    (0): Linear(in_features=768, out_features=2048, bias=True)\n",
       "    (1): BatchNorm1d(2048, eps=1e-05, momentum=0.1, affine=True, track_running_stats=True)\n",
       "    (2): ReLU()\n",
       "    (3): Linear(in_features=2048, out_features=2048, bias=True)\n",
       "    (4): BatchNorm1d(2048, eps=1e-05, momentum=0.1, affine=True, track_running_stats=True)\n",
       "    (5): ReLU()\n",
       "    (6): Linear(in_features=2048, out_features=1, bias=True)\n",
       "  )\n",
       ")"
      ]
     },
     "execution_count": 4,
     "metadata": {},
     "output_type": "execute_result"
    }
   ],
   "source": [
    "# model = Model()\n",
    "model = torch.load(\"muthubotv2.pt\")\n",
    "optimizer = torch.optim.Adam(model.parameters(), lr=1e-3)\n",
    "model.to(device)"
   ]
  },
  {
   "cell_type": "code",
   "execution_count": 6,
   "id": "d27e5972",
   "metadata": {},
   "outputs": [],
   "source": [
    "def fen_to_bitboard(fen):\n",
    "    f = torch.zeros((12, 64))\n",
    "    board = chess.Board(fen)\n",
    "    if board.turn == chess.WHITE:\n",
    "        a = 1\n",
    "        b = -1\n",
    "    if board.turn == chess.BLACK:\n",
    "        a = -1\n",
    "        b = 1\n",
    "    f[0][list(board.pieces(chess.PAWN, chess.WHITE))] = a\n",
    "    f[1][list(board.pieces(chess.KNIGHT, chess.WHITE))] = a\n",
    "    f[2][list(board.pieces(chess.ROOK, chess.WHITE))] = a\n",
    "    f[3][list(board.pieces(chess.BISHOP, chess.WHITE))] = a\n",
    "    f[4][list(board.pieces(chess.QUEEN, chess.WHITE))] = a\n",
    "    f[5][list(board.pieces(chess.KING, chess.WHITE))] = a\n",
    "    \n",
    "    f[6][list(board.pieces(chess.PAWN, chess.BLACK))] = b\n",
    "    f[7][list(board.pieces(chess.KNIGHT, chess.BLACK))] = b\n",
    "    f[8][list(board.pieces(chess.ROOK, chess.BLACK))] = b\n",
    "    f[9][list(board.pieces(chess.BISHOP, chess.BLACK))] = b\n",
    "    f[10][list(board.pieces(chess.QUEEN, chess.BLACK))] = b\n",
    "    f[11][list(board.pieces(chess.KING, chess.BLACK))] = b\n",
    "    \n",
    "    return f.view(1, 768)"
   ]
  },
  {
   "cell_type": "code",
   "execution_count": 29,
   "id": "97bc3d0e",
   "metadata": {},
   "outputs": [],
   "source": [
    "con = sqlite3.connect('test.db')\n",
    "cur = con.cursor()"
   ]
  },
  {
   "cell_type": "code",
   "execution_count": 7,
   "id": "8a5efee3",
   "metadata": {},
   "outputs": [],
   "source": [
    "size = 1000000\n",
    "fens_ = cur.execute(f\"SELECT fen FROM evaluations LIMIT {size}\")\n",
    "fens = fens_.fetchall()\n",
    "tensors = [fen_to_bitboard(fens[i][0]) for i in range(size)]\n",
    "bits = torch.cat(tensors, dim=0)\n",
    "with open('bits.npy', 'wb') as f:\n",
    "    np.save(f, bits)\n",
    "\n",
    "evals_ = cur.execute(f\"SELECT eval FROM evaluations LIMIT {size}\")\n",
    "evals = evals_.fetchall()\n",
    "temp = [((evals[i][0] + 152.65)/(305.3)) for i in range(size)]\n",
    "evaluations = torch.tensor(temp)\n",
    "with open('labels.npy', 'wb') as f:\n",
    "    np.save(f, evaluations)"
   ]
  },
  {
   "cell_type": "code",
   "execution_count": 6,
   "id": "6dd4aa26",
   "metadata": {},
   "outputs": [],
   "source": [
    "losses = []\n",
    "running_loss = 1\n",
    "bits = torch.from_numpy(np.load(\"bits.npy\"))\n",
    "labels = torch.from_numpy(np.load(\"labels.npy\"))"
   ]
  },
  {
   "cell_type": "code",
   "execution_count": 30,
   "id": "124093ea",
   "metadata": {
    "scrolled": false
   },
   "outputs": [],
   "source": [
    "# model training\n",
    "# https://stackoverflow.com/questions/45113245/how-to-get-mini-batches-in-pytorch-in-a-clean-and-efficient-way\n",
    "n_epochs = 100 # or whatever\n",
    "batch_size = 128 # or whatever\n",
    "\n",
    "for epoch in range(n_epochs):\n",
    "    # X is a torch Variable\n",
    "    permutation = torch.randperm(bits.size()[0])\n",
    "    for i in range(0, bits.size()[0], batch_size):\n",
    "        optimizer.zero_grad()\n",
    "\n",
    "        indices = permutation[i:i+batch_size]\n",
    "        batch_x, batch_y = bits[indices], labels[indices]\n",
    "        \n",
    "        batch_x = batch_x.to(device)\n",
    "        batch_y = batch_y.to(device)\n",
    "\n",
    "        # in case you wanted a semi-full example\n",
    "        outputs = model(batch_x)\n",
    "        loss = loss_function(outputs, batch_y.view(-1, 1))\n",
    "        running_loss = (0.9 * running_loss) + (loss * 0.1)\n",
    "#         print(batch_y)\n",
    "#         print(outputs)\n",
    "        losses.append(running_loss)\n",
    "\n",
    "        loss.backward()\n",
    "        optimizer.step()"
   ]
  },
  {
   "cell_type": "code",
   "execution_count": 11,
   "id": "b85bb749",
   "metadata": {},
   "outputs": [
    {
     "name": "stdout",
     "output_type": "stream",
     "text": [
      "tensor([[0.4869]], device='cuda:0', grad_fn=<AddmmBackward0>)\n"
     ]
    },
    {
     "data": {
      "text/plain": [
       "Model(\n",
       "  (layers): Sequential(\n",
       "    (0): Linear(in_features=768, out_features=2048, bias=True)\n",
       "    (1): BatchNorm1d(2048, eps=1e-05, momentum=0.1, affine=True, track_running_stats=True)\n",
       "    (2): ReLU()\n",
       "    (3): Linear(in_features=2048, out_features=2048, bias=True)\n",
       "    (4): BatchNorm1d(2048, eps=1e-05, momentum=0.1, affine=True, track_running_stats=True)\n",
       "    (5): ReLU()\n",
       "    (6): Linear(in_features=2048, out_features=1, bias=True)\n",
       "  )\n",
       ")"
      ]
     },
     "execution_count": 11,
     "metadata": {},
     "output_type": "execute_result"
    }
   ],
   "source": [
    "model.eval()\n",
    "fen = \"r1b2r2/pp1n1pk1/2p1p1p1/4P3/3P3Q/8/5RPP/4K3 b - - 0 26\"\n",
    "print(model(fen_to_bitboard(fen).to(device)))\n",
    "model.train()"
   ]
  },
  {
   "cell_type": "code",
   "execution_count": 31,
   "id": "a54ac23b",
   "metadata": {
    "scrolled": true
   },
   "outputs": [
    {
     "name": "stdout",
     "output_type": "stream",
     "text": [
      "tensor(7.7931e-06, device='cuda:0', grad_fn=<AddBackward0>)\n"
     ]
    }
   ],
   "source": [
    "print(running_loss)"
   ]
  },
  {
   "cell_type": "code",
   "execution_count": 32,
   "id": "9d1e01b6",
   "metadata": {
    "scrolled": true
   },
   "outputs": [
    {
     "data": {
      "text/plain": [
       "[<matplotlib.lines.Line2D at 0x202300e8850>]"
      ]
     },
     "execution_count": 32,
     "metadata": {},
     "output_type": "execute_result"
    },
    {
     "data": {
      "image/png": "[encoded data removed]",
      "text/plain": [
       "<Figure size 640x480 with 1 Axes>"
      ]
     },
     "metadata": {},
     "output_type": "display_data"
    }
   ],
   "source": [
    "start = 100000\n",
    "smooth = 1\n",
    "x = np.arange(len(losses)/smooth)\n",
    "y = torch.tensor(losses).view(smooth, -1).mean(0)\n",
    "plt.plot(x[start:], y[start:])"
   ]
  },
  {
   "cell_type": "code",
   "execution_count": 30,
   "id": "703438b7",
   "metadata": {},
   "outputs": [
    {
     "name": "stdout",
     "output_type": "stream",
     "text": [
      "tensor(0.0007, device='cuda:0', grad_fn=<DivBackward0>)\n"
     ]
    },
    {
     "data": {
      "text/plain": [
       "Model(\n",
       "  (layers): Sequential(\n",
       "    (0): Linear(in_features=768, out_features=2048, bias=True)\n",
       "    (1): BatchNorm1d(2048, eps=1e-05, momentum=0.1, affine=True, track_running_stats=True)\n",
       "    (2): ReLU()\n",
       "    (3): Linear(in_features=2048, out_features=2048, bias=True)\n",
       "    (4): BatchNorm1d(2048, eps=1e-05, momentum=0.1, affine=True, track_running_stats=True)\n",
       "    (5): ReLU()\n",
       "    (6): Linear(in_features=2048, out_features=1, bias=True)\n",
       "  )\n",
       ")"
      ]
     },
     "execution_count": 30,
     "metadata": {},
     "output_type": "execute_result"
    }
   ],
   "source": [
    "# model eval\n",
    "model.eval()\n",
    "size = 10000\n",
    "losses = []\n",
    "fen_ = cur.execute(f\"SELECT fen FROM evaluations WHERE id > 1000000 LIMIT {size}\")\n",
    "fen = fen_.fetchall()\n",
    "tensors = [fen_to_bitboard(fen[i][0]) for i in range(size)]\n",
    "bits = torch.cat(tensors, dim=0)\n",
    "evaluation_ = cur.execute(f\"SELECT eval FROM evaluations WHERE id > 1000000 LIMIT {size}\")\n",
    "evaluation = evaluation_.fetchall()\n",
    "temp = [((evaluation[i][0] + 152.65)/(305.3)) for i in range(size)]\n",
    "evaluations = torch.tensor(temp)\n",
    "\n",
    "n_epochs = 1 # or whatever\n",
    "batch_size = 32 # or whatever\n",
    "\n",
    "for epoch in range(n_epochs):\n",
    "    # X is a torch Variable\n",
    "    permutation = torch.randperm(bits.size()[0])\n",
    "    for i in range(0, bits.size()[0], batch_size):\n",
    "        optimizer.zero_grad()\n",
    "\n",
    "        indices = permutation[i:i+batch_size]\n",
    "        batch_x, batch_y = bits[indices], evaluations[indices]\n",
    "        \n",
    "        batch_x = batch_x.to(device)\n",
    "        batch_y = batch_y.to(device)\n",
    "\n",
    "        # in case you wanted a semi-full example\n",
    "        outputs = model(batch_x)\n",
    "        loss = loss_function(outputs, batch_y.view(-1, 1))\n",
    "        losses.append(loss)\n",
    "print(sum(losses)/len(losses))\n",
    "model.train()"
   ]
  },
  {
   "cell_type": "code",
   "execution_count": 31,
   "id": "8a69a342",
   "metadata": {},
   "outputs": [],
   "source": [
    "def best_move(fen):\n",
    "    model.eval()\n",
    "    board = chess.Board(fen)\n",
    "    moves = list(board.legal_moves)\n",
    "    best_score = -1000\n",
    "    best_move = \"\"\n",
    "    for m in moves:\n",
    "        board.push(m)\n",
    "        score = model(fen_to_bitboard(board.fen()).to(device))\n",
    "        print(str(score.item()) + \" \" + str(m))\n",
    "        if score > best_score:\n",
    "            best_score = score\n",
    "            best_move = m\n",
    "        board.pop()\n",
    "    model.train()\n",
    "    return best_move"
   ]
  }
 ],
 "metadata": {
  "kernelspec": {
   "display_name": "Python 3 (ipykernel)",
   "language": "python",
   "name": "python3"
  },
  "language_info": {
   "codemirror_mode": {
    "name": "ipython",
    "version": 3
   },
   "file_extension": ".py",
   "mimetype": "text/x-python",
   "name": "python",
   "nbconvert_exporter": "python",
   "pygments_lexer": "ipython3",
   "version": "3.10.6"
  }
 },
 "nbformat": 4,
 "nbformat_minor": 5
}
