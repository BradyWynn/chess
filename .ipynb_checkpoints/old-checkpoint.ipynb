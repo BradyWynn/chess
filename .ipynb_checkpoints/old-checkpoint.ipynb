{
 "cells": [
  {
   "cell_type": "raw",
   "id": "81054546",
   "metadata": {},
   "source": [
    "https://www.ficsgames.org/download.html"
   ]
  },
  {
   "cell_type": "code",
   "execution_count": 1,
   "id": "92d51064",
   "metadata": {},
   "outputs": [],
   "source": [
    "import numpy as np\n",
    "import matplotlib.pyplot as plt\n",
    "from torch import nn\n",
    "import torch\n",
    "import chess.pgn\n",
    "from stockfish import Stockfish\n",
    "import sqlite3\n",
    "import chess"
   ]
  },
  {
   "cell_type": "code",
   "execution_count": 2,
   "id": "7d9eef7b",
   "metadata": {},
   "outputs": [],
   "source": [
    "torch.cuda.set_device(0)\n",
    "device = torch.device('cuda')\n",
    "loss_function = nn.MSELoss()"
   ]
  },
  {
   "cell_type": "code",
   "execution_count": 3,
   "id": "db3e478d",
   "metadata": {},
   "outputs": [],
   "source": [
    "class Model(nn.Module):\n",
    "    def __init__(self):\n",
    "        super().__init__()\n",
    "        self.layers = nn.Sequential(\n",
    "            nn.Linear(768, 2048),\n",
    "            nn.BatchNorm1d(2048),\n",
    "            nn.ReLU(),\n",
    "            nn.Linear(2048, 2048),\n",
    "            nn.BatchNorm1d(2048),\n",
    "            nn.ReLU(),\n",
    "            nn.Linear(2048, 1),\n",
    "        )\n",
    "    def forward(self, x):\n",
    "        return self.layers(x)"
   ]
  },
  {
   "cell_type": "code",
   "execution_count": 4,
   "id": "ac1131f5",
   "metadata": {
    "scrolled": true
   },
   "outputs": [
    {
     "data": {
      "text/plain": [
       "Model(\n",
       "  (layers): Sequential(\n",
       "    (0): Linear(in_features=768, out_features=2048, bias=True)\n",
       "    (1): BatchNorm1d(2048, eps=1e-05, momentum=0.1, affine=True, track_running_stats=True)\n",
       "    (2): ReLU()\n",
       "    (3): Linear(in_features=2048, out_features=2048, bias=True)\n",
       "    (4): BatchNorm1d(2048, eps=1e-05, momentum=0.1, affine=True, track_running_stats=True)\n",
       "    (5): ReLU()\n",
       "    (6): Linear(in_features=2048, out_features=1, bias=True)\n",
       "  )\n",
       ")"
      ]
     },
     "execution_count": 4,
     "metadata": {},
     "output_type": "execute_result"
    }
   ],
   "source": [
    "model = Model()\n",
    "# model = torch.load(\"muthubotv2.pt\")\n",
    "optimizer = torch.optim.Adam(model.parameters(), lr=1e-3)\n",
    "model.to(device)"
   ]
  },
  {
   "cell_type": "code",
   "execution_count": 60,
   "id": "d27e5972",
   "metadata": {},
   "outputs": [],
   "source": [
    "def fen_to_bitboard(fen):\n",
    "    f = torch.zeros((12, 64))\n",
    "    board = chess.Board(fen)\n",
    "    if board.turn == chess.WHITE:\n",
    "        a = 1\n",
    "        b = -1\n",
    "    if board.turn == chess.BLACK:\n",
    "        a = -1\n",
    "        b = 1\n",
    "    f[0][list(board.pieces(chess.PAWN, chess.WHITE))] = a\n",
    "    f[1][list(board.pieces(chess.KNIGHT, chess.WHITE))] = a\n",
    "    f[2][list(board.pieces(chess.ROOK, chess.WHITE))] = a\n",
    "    f[3][list(board.pieces(chess.BISHOP, chess.WHITE))] = a\n",
    "    f[4][list(board.pieces(chess.QUEEN, chess.WHITE))] = a\n",
    "    f[5][list(board.pieces(chess.KING, chess.WHITE))] = a\n",
    "    \n",
    "    f[6][list(board.pieces(chess.PAWN, chess.BLACK))] = b\n",
    "    f[7][list(board.pieces(chess.KNIGHT, chess.BLACK))] = b\n",
    "    f[8][list(board.pieces(chess.ROOK, chess.BLACK))] = b\n",
    "    f[9][list(board.pieces(chess.BISHOP, chess.BLACK))] = b\n",
    "    f[10][list(board.pieces(chess.QUEEN, chess.BLACK))] = b\n",
    "    f[11][list(board.pieces(chess.KING, chess.BLACK))] = b\n",
    "    \n",
    "    return f.view(1, 768)"
   ]
  },
  {
   "cell_type": "code",
   "execution_count": 6,
   "id": "97bc3d0e",
   "metadata": {},
   "outputs": [],
   "source": [
    "con = sqlite3.connect('test.db')\n",
    "cur = con.cursor()"
   ]
  },
  {
   "cell_type": "code",
   "execution_count": 11,
   "id": "8a5efee3",
   "metadata": {},
   "outputs": [],
   "source": [
    "size = 1000000\n",
    "# training dataset\n",
    "# fens_ = cur.execute(f\"SELECT fen FROM evaluations LIMIT {size}\")\n",
    "# fens = fens_.fetchall()\n",
    "# tensors = [fen_to_bitboard(fens[i][0]) for i in range(size)]\n",
    "# bits = torch.cat(tensors, dim=0)\n",
    "# with open('bits.npy', 'wb') as f:\n",
    "#     np.save(f, bits)\n",
    "\n",
    "# evals_ = cur.execute(f\"SELECT eval FROM evaluations LIMIT {size}\")\n",
    "# evals = evals_.fetchall()\n",
    "# temp = [((np.arctan(1/2 * evals[i][0]) + np.pi/2)/(np.pi)) for i in range(size)]\n",
    "# evaluations = torch.tensor(temp, dtype=torch.float32)\n",
    "# with open('labels.npy', 'wb') as f:\n",
    "#     np.save(f, evaluations)\n",
    "\n",
    "\n",
    "# evaluation dataset\n",
    "eval_size = 10000\n",
    "e_fen_ = cur.execute(f\"SELECT fen FROM evaluations WHERE id > {size} LIMIT {eval_size}\")\n",
    "e_fen = e_fen_.fetchall()\n",
    "tensors = [fen_to_bitboard(e_fen[i][0]) for i in range(eval_size)]\n",
    "bits = torch.cat(tensors, dim=0)\n",
    "with open('eval_examples.npy', 'wb') as f:\n",
    "    np.save(f, bits)\n",
    "\n",
    "evaluation_ = cur.execute(f\"SELECT eval FROM evaluations WHERE id > {size} LIMIT {eval_size}\")\n",
    "evaluation = evaluation_.fetchall()\n",
    "temp = [((np.arctan(1/2 * evaluation[i][0]) + np.pi/2)/(np.pi)) for i in range(eval_size)]\n",
    "evaluations = torch.tensor(temp)\n",
    "with open('eval_labels.npy', 'wb') as f:\n",
    "    np.save(f, evaluations)\n",
    "\n",
    "# plt.style.use('_mpl-gallery')\n",
    "\n",
    "# # make data\n",
    "# np.random.seed(1)\n",
    "\n",
    "# # plot:\n",
    "# fig, ax = plt.subplots()\n",
    "\n",
    "# ax.hist(x, bins=100, linewidth=0.5, edgecolor=\"white\")\n",
    "\n",
    "# ax.set(xlim=(-2, 2), xticks=np.arange(1, 1),\n",
    "#        ylim=(0, 1000), yticks=np.linspace(0, 1000, 9))\n",
    "\n",
    "# plt.show()"
   ]
  },
  {
   "cell_type": "code",
   "execution_count": 5,
   "id": "6dd4aa26",
   "metadata": {},
   "outputs": [],
   "source": [
    "losses = []\n",
    "eval_losses = []\n",
    "\n",
    "running_loss = 1\n",
    "eval_running_loss = 1\n",
    "\n",
    "bits = torch.from_numpy(np.load(\"bits.npy\")).to(device)\n",
    "labels = torch.from_numpy(np.load(\"labels.npy\")).to(device)\n",
    "\n",
    "eval_examples = torch.from_numpy(np.load(\"eval_examples.npy\")).to(device)\n",
    "eval_labels = torch.from_numpy(np.load(\"eval_labels.npy\")).to(device)"
   ]
  },
  {
   "cell_type": "code",
   "execution_count": 99,
   "id": "124093ea",
   "metadata": {
    "scrolled": false
   },
   "outputs": [
    {
     "ename": "KeyboardInterrupt",
     "evalue": "",
     "output_type": "error",
     "traceback": [
      "\u001b[1;31m---------------------------------------------------------------------------\u001b[0m",
      "\u001b[1;31mKeyboardInterrupt\u001b[0m                         Traceback (most recent call last)",
      "Cell \u001b[1;32mIn [99], line 29\u001b[0m\n\u001b[0;32m     26\u001b[0m losses\u001b[38;5;241m.\u001b[39mappend(loss\u001b[38;5;241m.\u001b[39mitem())\n\u001b[0;32m     28\u001b[0m loss\u001b[38;5;241m.\u001b[39mbackward()\n\u001b[1;32m---> 29\u001b[0m \u001b[43moptimizer\u001b[49m\u001b[38;5;241;43m.\u001b[39;49m\u001b[43mstep\u001b[49m\u001b[43m(\u001b[49m\u001b[43m)\u001b[49m\n",
      "File \u001b[1;32m~\\AppData\\Local\\Programs\\Python\\Python310\\lib\\site-packages\\torch\\optim\\optimizer.py:140\u001b[0m, in \u001b[0;36mOptimizer._hook_for_profile.<locals>.profile_hook_step.<locals>.wrapper\u001b[1;34m(*args, **kwargs)\u001b[0m\n\u001b[0;32m    138\u001b[0m profile_name \u001b[38;5;241m=\u001b[39m \u001b[38;5;124m\"\u001b[39m\u001b[38;5;124mOptimizer.step#\u001b[39m\u001b[38;5;132;01m{}\u001b[39;00m\u001b[38;5;124m.step\u001b[39m\u001b[38;5;124m\"\u001b[39m\u001b[38;5;241m.\u001b[39mformat(obj\u001b[38;5;241m.\u001b[39m\u001b[38;5;18m__class__\u001b[39m\u001b[38;5;241m.\u001b[39m\u001b[38;5;18m__name__\u001b[39m)\n\u001b[0;32m    139\u001b[0m \u001b[38;5;28;01mwith\u001b[39;00m torch\u001b[38;5;241m.\u001b[39mautograd\u001b[38;5;241m.\u001b[39mprofiler\u001b[38;5;241m.\u001b[39mrecord_function(profile_name):\n\u001b[1;32m--> 140\u001b[0m     out \u001b[38;5;241m=\u001b[39m func(\u001b[38;5;241m*\u001b[39margs, \u001b[38;5;241m*\u001b[39m\u001b[38;5;241m*\u001b[39mkwargs)\n\u001b[0;32m    141\u001b[0m     obj\u001b[38;5;241m.\u001b[39m_optimizer_step_code()\n\u001b[0;32m    142\u001b[0m     \u001b[38;5;28;01mreturn\u001b[39;00m out\n",
      "File \u001b[1;32m~\\AppData\\Local\\Programs\\Python\\Python310\\lib\\site-packages\\torch\\optim\\optimizer.py:23\u001b[0m, in \u001b[0;36m_use_grad_for_differentiable.<locals>._use_grad\u001b[1;34m(self, *args, **kwargs)\u001b[0m\n\u001b[0;32m     21\u001b[0m \u001b[38;5;28;01mtry\u001b[39;00m:\n\u001b[0;32m     22\u001b[0m     torch\u001b[38;5;241m.\u001b[39mset_grad_enabled(\u001b[38;5;28mself\u001b[39m\u001b[38;5;241m.\u001b[39mdefaults[\u001b[38;5;124m'\u001b[39m\u001b[38;5;124mdifferentiable\u001b[39m\u001b[38;5;124m'\u001b[39m])\n\u001b[1;32m---> 23\u001b[0m     ret \u001b[38;5;241m=\u001b[39m func(\u001b[38;5;28mself\u001b[39m, \u001b[38;5;241m*\u001b[39margs, \u001b[38;5;241m*\u001b[39m\u001b[38;5;241m*\u001b[39mkwargs)\n\u001b[0;32m     24\u001b[0m \u001b[38;5;28;01mfinally\u001b[39;00m:\n\u001b[0;32m     25\u001b[0m     torch\u001b[38;5;241m.\u001b[39mset_grad_enabled(prev_grad)\n",
      "File \u001b[1;32m~\\AppData\\Local\\Programs\\Python\\Python310\\lib\\site-packages\\torch\\optim\\adam.py:234\u001b[0m, in \u001b[0;36mAdam.step\u001b[1;34m(self, closure, grad_scaler)\u001b[0m\n\u001b[0;32m    231\u001b[0m                 \u001b[38;5;28;01mraise\u001b[39;00m \u001b[38;5;167;01mRuntimeError\u001b[39;00m(\u001b[38;5;124m'\u001b[39m\u001b[38;5;124m`requires_grad` is not supported for `step` in differentiable mode\u001b[39m\u001b[38;5;124m'\u001b[39m)\n\u001b[0;32m    232\u001b[0m             state_steps\u001b[38;5;241m.\u001b[39mappend(state[\u001b[38;5;124m'\u001b[39m\u001b[38;5;124mstep\u001b[39m\u001b[38;5;124m'\u001b[39m])\n\u001b[1;32m--> 234\u001b[0m     \u001b[43madam\u001b[49m\u001b[43m(\u001b[49m\u001b[43mparams_with_grad\u001b[49m\u001b[43m,\u001b[49m\n\u001b[0;32m    235\u001b[0m \u001b[43m         \u001b[49m\u001b[43mgrads\u001b[49m\u001b[43m,\u001b[49m\n\u001b[0;32m    236\u001b[0m \u001b[43m         \u001b[49m\u001b[43mexp_avgs\u001b[49m\u001b[43m,\u001b[49m\n\u001b[0;32m    237\u001b[0m \u001b[43m         \u001b[49m\u001b[43mexp_avg_sqs\u001b[49m\u001b[43m,\u001b[49m\n\u001b[0;32m    238\u001b[0m \u001b[43m         \u001b[49m\u001b[43mmax_exp_avg_sqs\u001b[49m\u001b[43m,\u001b[49m\n\u001b[0;32m    239\u001b[0m \u001b[43m         \u001b[49m\u001b[43mstate_steps\u001b[49m\u001b[43m,\u001b[49m\n\u001b[0;32m    240\u001b[0m \u001b[43m         \u001b[49m\u001b[43mamsgrad\u001b[49m\u001b[38;5;241;43m=\u001b[39;49m\u001b[43mgroup\u001b[49m\u001b[43m[\u001b[49m\u001b[38;5;124;43m'\u001b[39;49m\u001b[38;5;124;43mamsgrad\u001b[39;49m\u001b[38;5;124;43m'\u001b[39;49m\u001b[43m]\u001b[49m\u001b[43m,\u001b[49m\n\u001b[0;32m    241\u001b[0m \u001b[43m         \u001b[49m\u001b[43mbeta1\u001b[49m\u001b[38;5;241;43m=\u001b[39;49m\u001b[43mbeta1\u001b[49m\u001b[43m,\u001b[49m\n\u001b[0;32m    242\u001b[0m \u001b[43m         \u001b[49m\u001b[43mbeta2\u001b[49m\u001b[38;5;241;43m=\u001b[39;49m\u001b[43mbeta2\u001b[49m\u001b[43m,\u001b[49m\n\u001b[0;32m    243\u001b[0m \u001b[43m         \u001b[49m\u001b[43mlr\u001b[49m\u001b[38;5;241;43m=\u001b[39;49m\u001b[43mgroup\u001b[49m\u001b[43m[\u001b[49m\u001b[38;5;124;43m'\u001b[39;49m\u001b[38;5;124;43mlr\u001b[39;49m\u001b[38;5;124;43m'\u001b[39;49m\u001b[43m]\u001b[49m\u001b[43m,\u001b[49m\n\u001b[0;32m    244\u001b[0m \u001b[43m         \u001b[49m\u001b[43mweight_decay\u001b[49m\u001b[38;5;241;43m=\u001b[39;49m\u001b[43mgroup\u001b[49m\u001b[43m[\u001b[49m\u001b[38;5;124;43m'\u001b[39;49m\u001b[38;5;124;43mweight_decay\u001b[39;49m\u001b[38;5;124;43m'\u001b[39;49m\u001b[43m]\u001b[49m\u001b[43m,\u001b[49m\n\u001b[0;32m    245\u001b[0m \u001b[43m         \u001b[49m\u001b[43meps\u001b[49m\u001b[38;5;241;43m=\u001b[39;49m\u001b[43mgroup\u001b[49m\u001b[43m[\u001b[49m\u001b[38;5;124;43m'\u001b[39;49m\u001b[38;5;124;43meps\u001b[39;49m\u001b[38;5;124;43m'\u001b[39;49m\u001b[43m]\u001b[49m\u001b[43m,\u001b[49m\n\u001b[0;32m    246\u001b[0m \u001b[43m         \u001b[49m\u001b[43mmaximize\u001b[49m\u001b[38;5;241;43m=\u001b[39;49m\u001b[43mgroup\u001b[49m\u001b[43m[\u001b[49m\u001b[38;5;124;43m'\u001b[39;49m\u001b[38;5;124;43mmaximize\u001b[39;49m\u001b[38;5;124;43m'\u001b[39;49m\u001b[43m]\u001b[49m\u001b[43m,\u001b[49m\n\u001b[0;32m    247\u001b[0m \u001b[43m         \u001b[49m\u001b[43mforeach\u001b[49m\u001b[38;5;241;43m=\u001b[39;49m\u001b[43mgroup\u001b[49m\u001b[43m[\u001b[49m\u001b[38;5;124;43m'\u001b[39;49m\u001b[38;5;124;43mforeach\u001b[39;49m\u001b[38;5;124;43m'\u001b[39;49m\u001b[43m]\u001b[49m\u001b[43m,\u001b[49m\n\u001b[0;32m    248\u001b[0m \u001b[43m         \u001b[49m\u001b[43mcapturable\u001b[49m\u001b[38;5;241;43m=\u001b[39;49m\u001b[43mgroup\u001b[49m\u001b[43m[\u001b[49m\u001b[38;5;124;43m'\u001b[39;49m\u001b[38;5;124;43mcapturable\u001b[39;49m\u001b[38;5;124;43m'\u001b[39;49m\u001b[43m]\u001b[49m\u001b[43m,\u001b[49m\n\u001b[0;32m    249\u001b[0m \u001b[43m         \u001b[49m\u001b[43mdifferentiable\u001b[49m\u001b[38;5;241;43m=\u001b[39;49m\u001b[43mgroup\u001b[49m\u001b[43m[\u001b[49m\u001b[38;5;124;43m'\u001b[39;49m\u001b[38;5;124;43mdifferentiable\u001b[39;49m\u001b[38;5;124;43m'\u001b[39;49m\u001b[43m]\u001b[49m\u001b[43m,\u001b[49m\n\u001b[0;32m    250\u001b[0m \u001b[43m         \u001b[49m\u001b[43mfused\u001b[49m\u001b[38;5;241;43m=\u001b[39;49m\u001b[43mgroup\u001b[49m\u001b[43m[\u001b[49m\u001b[38;5;124;43m'\u001b[39;49m\u001b[38;5;124;43mfused\u001b[39;49m\u001b[38;5;124;43m'\u001b[39;49m\u001b[43m]\u001b[49m\u001b[43m,\u001b[49m\n\u001b[0;32m    251\u001b[0m \u001b[43m         \u001b[49m\u001b[43mgrad_scale\u001b[49m\u001b[38;5;241;43m=\u001b[39;49m\u001b[43mgrad_scale\u001b[49m\u001b[43m,\u001b[49m\n\u001b[0;32m    252\u001b[0m \u001b[43m         \u001b[49m\u001b[43mfound_inf\u001b[49m\u001b[38;5;241;43m=\u001b[39;49m\u001b[43mfound_inf\u001b[49m\u001b[43m)\u001b[49m\n\u001b[0;32m    254\u001b[0m \u001b[38;5;28;01mreturn\u001b[39;00m loss\n",
      "File \u001b[1;32m~\\AppData\\Local\\Programs\\Python\\Python310\\lib\\site-packages\\torch\\optim\\adam.py:300\u001b[0m, in \u001b[0;36madam\u001b[1;34m(params, grads, exp_avgs, exp_avg_sqs, max_exp_avg_sqs, state_steps, foreach, capturable, differentiable, fused, grad_scale, found_inf, amsgrad, beta1, beta2, lr, weight_decay, eps, maximize)\u001b[0m\n\u001b[0;32m    297\u001b[0m \u001b[38;5;28;01melse\u001b[39;00m:\n\u001b[0;32m    298\u001b[0m     func \u001b[38;5;241m=\u001b[39m _single_tensor_adam\n\u001b[1;32m--> 300\u001b[0m \u001b[43mfunc\u001b[49m\u001b[43m(\u001b[49m\u001b[43mparams\u001b[49m\u001b[43m,\u001b[49m\n\u001b[0;32m    301\u001b[0m \u001b[43m     \u001b[49m\u001b[43mgrads\u001b[49m\u001b[43m,\u001b[49m\n\u001b[0;32m    302\u001b[0m \u001b[43m     \u001b[49m\u001b[43mexp_avgs\u001b[49m\u001b[43m,\u001b[49m\n\u001b[0;32m    303\u001b[0m \u001b[43m     \u001b[49m\u001b[43mexp_avg_sqs\u001b[49m\u001b[43m,\u001b[49m\n\u001b[0;32m    304\u001b[0m \u001b[43m     \u001b[49m\u001b[43mmax_exp_avg_sqs\u001b[49m\u001b[43m,\u001b[49m\n\u001b[0;32m    305\u001b[0m \u001b[43m     \u001b[49m\u001b[43mstate_steps\u001b[49m\u001b[43m,\u001b[49m\n\u001b[0;32m    306\u001b[0m \u001b[43m     \u001b[49m\u001b[43mamsgrad\u001b[49m\u001b[38;5;241;43m=\u001b[39;49m\u001b[43mamsgrad\u001b[49m\u001b[43m,\u001b[49m\n\u001b[0;32m    307\u001b[0m \u001b[43m     \u001b[49m\u001b[43mbeta1\u001b[49m\u001b[38;5;241;43m=\u001b[39;49m\u001b[43mbeta1\u001b[49m\u001b[43m,\u001b[49m\n\u001b[0;32m    308\u001b[0m \u001b[43m     \u001b[49m\u001b[43mbeta2\u001b[49m\u001b[38;5;241;43m=\u001b[39;49m\u001b[43mbeta2\u001b[49m\u001b[43m,\u001b[49m\n\u001b[0;32m    309\u001b[0m \u001b[43m     \u001b[49m\u001b[43mlr\u001b[49m\u001b[38;5;241;43m=\u001b[39;49m\u001b[43mlr\u001b[49m\u001b[43m,\u001b[49m\n\u001b[0;32m    310\u001b[0m \u001b[43m     \u001b[49m\u001b[43mweight_decay\u001b[49m\u001b[38;5;241;43m=\u001b[39;49m\u001b[43mweight_decay\u001b[49m\u001b[43m,\u001b[49m\n\u001b[0;32m    311\u001b[0m \u001b[43m     \u001b[49m\u001b[43meps\u001b[49m\u001b[38;5;241;43m=\u001b[39;49m\u001b[43meps\u001b[49m\u001b[43m,\u001b[49m\n\u001b[0;32m    312\u001b[0m \u001b[43m     \u001b[49m\u001b[43mmaximize\u001b[49m\u001b[38;5;241;43m=\u001b[39;49m\u001b[43mmaximize\u001b[49m\u001b[43m,\u001b[49m\n\u001b[0;32m    313\u001b[0m \u001b[43m     \u001b[49m\u001b[43mcapturable\u001b[49m\u001b[38;5;241;43m=\u001b[39;49m\u001b[43mcapturable\u001b[49m\u001b[43m,\u001b[49m\n\u001b[0;32m    314\u001b[0m \u001b[43m     \u001b[49m\u001b[43mdifferentiable\u001b[49m\u001b[38;5;241;43m=\u001b[39;49m\u001b[43mdifferentiable\u001b[49m\u001b[43m,\u001b[49m\n\u001b[0;32m    315\u001b[0m \u001b[43m     \u001b[49m\u001b[43mgrad_scale\u001b[49m\u001b[38;5;241;43m=\u001b[39;49m\u001b[43mgrad_scale\u001b[49m\u001b[43m,\u001b[49m\n\u001b[0;32m    316\u001b[0m \u001b[43m     \u001b[49m\u001b[43mfound_inf\u001b[49m\u001b[38;5;241;43m=\u001b[39;49m\u001b[43mfound_inf\u001b[49m\u001b[43m)\u001b[49m\n",
      "File \u001b[1;32m~\\AppData\\Local\\Programs\\Python\\Python310\\lib\\site-packages\\torch\\optim\\adam.py:410\u001b[0m, in \u001b[0;36m_single_tensor_adam\u001b[1;34m(params, grads, exp_avgs, exp_avg_sqs, max_exp_avg_sqs, state_steps, grad_scale, found_inf, amsgrad, beta1, beta2, lr, weight_decay, eps, maximize, capturable, differentiable)\u001b[0m\n\u001b[0;32m    408\u001b[0m     denom \u001b[38;5;241m=\u001b[39m (max_exp_avg_sqs[i]\u001b[38;5;241m.\u001b[39msqrt() \u001b[38;5;241m/\u001b[39m bias_correction2_sqrt)\u001b[38;5;241m.\u001b[39madd_(eps)\n\u001b[0;32m    409\u001b[0m \u001b[38;5;28;01melse\u001b[39;00m:\n\u001b[1;32m--> 410\u001b[0m     denom \u001b[38;5;241m=\u001b[39m \u001b[43m(\u001b[49m\u001b[43mexp_avg_sq\u001b[49m\u001b[38;5;241;43m.\u001b[39;49m\u001b[43msqrt\u001b[49m\u001b[43m(\u001b[49m\u001b[43m)\u001b[49m\u001b[43m \u001b[49m\u001b[38;5;241;43m/\u001b[39;49m\u001b[43m \u001b[49m\u001b[43mbias_correction2_sqrt\u001b[49m\u001b[43m)\u001b[49m\u001b[38;5;241;43m.\u001b[39;49m\u001b[43madd_\u001b[49m\u001b[43m(\u001b[49m\u001b[43meps\u001b[49m\u001b[43m)\u001b[49m\n\u001b[0;32m    412\u001b[0m param\u001b[38;5;241m.\u001b[39maddcdiv_(exp_avg, denom, value\u001b[38;5;241m=\u001b[39m\u001b[38;5;241m-\u001b[39mstep_size)\n",
      "\u001b[1;31mKeyboardInterrupt\u001b[0m: "
     ]
    }
   ],
   "source": [
    "# model training\n",
    "# https://stackoverflow.com/questions/45113245/how-to-get-mini-batches-in-pytorch-in-a-clean-and-efficient-way\n",
    "n_epochs = 200 # or whatever\n",
    "batch_size = 128 # or whatever\n",
    "\n",
    "for epoch in range(n_epochs):\n",
    "    # X is a torch Variable\n",
    "    permutation = torch.randperm(bits.size()[0])\n",
    "    eval_permutation = torch.randperm(bits.size()[0])\n",
    "    for i in range(0, eval_examples.size()[0], batch_size):\n",
    "        indices = eval_permutation[i:i+batch_size]\n",
    "        batch_x, batch_y = bits[indices], labels[indices]\n",
    "        outputs = model(batch_x)\n",
    "        \n",
    "        loss = loss_function(outputs, batch_y.view(-1, 1))\n",
    "        eval_losses.append(loss.item())\n",
    "        \n",
    "    for i in range(0, bits.size()[0], batch_size):\n",
    "        optimizer.zero_grad()\n",
    "\n",
    "        indices = permutation[i:i+batch_size]\n",
    "        batch_x, batch_y = bits[indices], labels[indices]\n",
    "        \n",
    "        outputs = model(batch_x)\n",
    "        loss = loss_function(outputs, batch_y.view(-1, 1))\n",
    "        losses.append(loss.item())\n",
    "\n",
    "        loss.backward()\n",
    "        optimizer.step()"
   ]
  },
  {
   "cell_type": "code",
   "execution_count": 100,
   "id": "9d1e01b6",
   "metadata": {
    "scrolled": true
   },
   "outputs": [
    {
     "data": {
      "image/png": "[encoded data removed]",
      "text/plain": [
       "<Figure size 640x480 with 1 Axes>"
      ]
     },
     "metadata": {},
     "output_type": "display_data"
    }
   ],
   "source": [
    "start = 1500000\n",
    "smooth = 1\n",
    "\n",
    "x = np.arange(len(losses)/smooth)\n",
    "y = torch.tensor(losses).view(smooth, -1).mean(0)\n",
    "plt.plot(x[start:], y[start:])\n",
    "\n",
    "e_x = np.arange(0, (len(eval_losses)/smooth) * 100, 100)\n",
    "e_y = torch.tensor(eval_losses).view(smooth, -1).mean(0)\n",
    "plt.plot(e_x[int(start/100):], e_y[int(start/100):])\n",
    "\n",
    "plt.ylim(0, 0.005)\n",
    "plt.show()"
   ]
  },
  {
   "cell_type": "code",
   "execution_count": 58,
   "id": "8a69a342",
   "metadata": {},
   "outputs": [],
   "source": [
    "def evaluation(fen):\n",
    "    model.eval()\n",
    "    score  = model(fen_to_bitboard(fen).to(device))\n",
    "    model.train()\n",
    "    return score.item()"
   ]
  },
  {
   "cell_type": "code",
   "execution_count": 127,
   "id": "9eb8138f",
   "metadata": {},
   "outputs": [],
   "source": [
    "def minimax(board, depth):\n",
    "    moves = list(board.legal_moves)\n",
    "    if depth == 0:\n",
    "        score = evaluation(board.fen())\n",
    "        if board.turn == chess.WHITE:\n",
    "            return score, None\n",
    "        else:\n",
    "            return score, None\n",
    "    if board.turn == chess.WHITE:\n",
    "        maxScore = -100\n",
    "        best_move = None\n",
    "        for m in moves:\n",
    "            board.push(m)\n",
    "            score, _ = minimax(board, depth-1)\n",
    "            if score > maxScore:\n",
    "                maxScore = score\n",
    "                best_move = m\n",
    "            board.pop()\n",
    "        if depth < 3:\n",
    "            return maxScore, None\n",
    "        if depth == 3:\n",
    "            return maxScore, best_move\n",
    "    else:\n",
    "        minScore = 100\n",
    "        best_move = None\n",
    "        for m in moves:\n",
    "            board.push(m)\n",
    "            score, _ = minimax(board, depth-1)\n",
    "            if score < minScore:\n",
    "                minScore = score\n",
    "                best_move = m\n",
    "            board.pop()\n",
    "        if depth < 3:\n",
    "            return minScore, None\n",
    "        if depth == 3:\n",
    "            return minScore, best_move"
   ]
  },
  {
   "cell_type": "code",
   "execution_count": 187,
   "id": "fc3bd93b",
   "metadata": {},
   "outputs": [],
   "source": [
    "class node():\n",
    "    def __init__(self, fen, parent, color):\n",
    "        self.fen = fen\n",
    "        self.parent = parent\n",
    "        self.children = None\n",
    "        self.visits = 1\n",
    "        self.wins = evaluation(fen)\n",
    "        self.color = color"
   ]
  },
  {
   "cell_type": "code",
   "execution_count": 249,
   "id": "eb74e7ea",
   "metadata": {},
   "outputs": [],
   "source": [
    "def search(board):\n",
    "    tree = []\n",
    "    root = node(board.fen(), None, board.turn)\n",
    "    tree.append(root)\n",
    "    for w in range(1000):\n",
    "        # selection\n",
    "        # need to get a leaf node first, traverse downward\n",
    "        current = tree[0]\n",
    "        while current.children is not None:\n",
    "            best = -100\n",
    "            best_node = None\n",
    "            for c in current.children:\n",
    "                b = (c.wins / c.visits) + np.sqrt(2) * np.sqrt(np.log(c.parent.visits) / c.visits) \n",
    "                if b > best:\n",
    "                    best = b\n",
    "                    best_node = c\n",
    "            current = best_node\n",
    "            \n",
    "        \n",
    "        # expanding out all possible moves\n",
    "        moves = []\n",
    "        board.set_fen(current.fen)\n",
    "        for m in list(board.legal_moves):\n",
    "            board.push(m)\n",
    "            n = node(board.fen(), current, board.turn)\n",
    "            moves.append(n)\n",
    "            tree.append(n)\n",
    "            board.pop()\n",
    "        current.children = moves\n",
    "        \n",
    "        # back propogation\n",
    "        for n in current.children:\n",
    "            score = n.wins\n",
    "            color = n.color\n",
    "            temp = n.parent\n",
    "            \n",
    "            while temp is not None:\n",
    "                temp.visits += 1\n",
    "                if color == current.color:\n",
    "                    temp.wins += score\n",
    "                else:\n",
    "                    temp.wins += (1 - score)\n",
    "                temp = temp.parent\n",
    "                    \n",
    "    # get best node\n",
    "    tree.remove(root)\n",
    "    most_visits = 0\n",
    "    best_move = None\n",
    "    for t in tree:\n",
    "        if t.visits > most_visits:\n",
    "            most_visits = t.visits\n",
    "            best_move = t.fen\n",
    "    return best_move, most_visits\n",
    "            \n",
    "        "
   ]
  },
  {
   "cell_type": "code",
   "execution_count": 251,
   "id": "60b8154a",
   "metadata": {
    "scrolled": false
   },
   "outputs": [
    {
     "data": {
      "text/plain": [
       "('rnbqkbnr/pppppppp/8/8/6P1/8/PPPPPP1P/RNBQKBNR b KQkq - 0 1', 2136)"
      ]
     },
     "execution_count": 251,
     "metadata": {},
     "output_type": "execute_result"
    }
   ],
   "source": [
    "fen = \"rnbqkbnr/pppppppp/8/8/8/8/PPPPPPPP/RNBQKBNR w KQkq - 0 1\"\n",
    "board = chess.Board(fen)\n",
    "# print(minimax(board, 3))\n",
    "search(board)"
   ]
  },
  {
   "cell_type": "code",
   "execution_count": 142,
   "id": "90eae826",
   "metadata": {},
   "outputs": [
    {
     "name": "stdout",
     "output_type": "stream",
     "text": [
      "0.1117396354675293 h8g8\n",
      "0.09882411360740662 h8f8\n",
      "0.07409432530403137 h8e8\n",
      "0.15446767210960388 d8g8\n",
      "0.12033817172050476 d8f8\n",
      "0.07037353515625 d8e8\n",
      "0.13731563091278076 d8d7\n",
      "0.20376084744930267 d8d6\n",
      "0.0869358479976654 d8d5\n",
      "0.07554253935813904 c8b8\n",
      "0.10079485177993774 c8d7\n",
      "0.09480690956115723 h6g8\n",
      "0.10955634713172913 f5d7\n",
      "0.0006942152976989746 f5g6\n",
      "0.08554428815841675 f5f6\n",
      "0.06046062707901001 f5e6\n",
      "0.08908319473266602 f5h5\n",
      "0.10336443781852722 f5g5\n",
      "0.19712936878204346 f5e5\n",
      "0.06519752740859985 f5d5\n",
      "0.09792423248291016 f5c5\n",
      "0.04803466796875 f5b5\n",
      "0.06548139452934265 f5a5\n",
      "0.13746583461761475 f5f4\n",
      "0.005296438932418823 f5e4\n",
      "0.11470183730125427 f5f3\n",
      "0.18837203085422516 d4g7\n",
      "0.16175910830497742 d4f6\n",
      "0.07576242089271545 d4b6\n",
      "0.148159921169281 d4e5\n",
      "0.08390054106712341 d4c5\n",
      "0.18294283747673035 d4e3\n",
      "0.543045163154602 d4c3\n",
      "0.0833069384098053 d4f2\n",
      "0.09695187211036682 d4b2\n",
      "0.17273756861686707 g4f3\n",
      "0.06479686498641968 f7f6\n",
      "0.047541290521621704 e7e6\n",
      "0.054818421602249146 c7c6\n",
      "0.05162116885185242 b7b6\n",
      "0.06810957193374634 a7a6\n",
      "0.1520760953426361 g4g3\n",
      "0.12509486079216003 e7e5\n",
      "0.11845904588699341 c7c5\n",
      "0.11781665682792664 b7b5\n",
      "0.05936899781227112 a7a5\n",
      "d4c3\n"
     ]
    }
   ],
   "source": [
    "fen = \"2kr3r/1pp1pp1p/p6n/5q2/3bN1p1/3P1P2/PP3RPP/R1BQ2K1 b - - 0 16\"\n",
    "board = chess.Board(fen)\n",
    "moves = list(board.legal_moves)\n",
    "\n",
    "best_score = -1000\n",
    "best_move = \"\"\n",
    "for m in moves:\n",
    "    board.push(m)\n",
    "    score = evaluation(board.fen())\n",
    "    print(str(score) + \" \" + str(m))\n",
    "    if score > best_score:\n",
    "        best_score = score\n",
    "        best_move = m\n",
    "    board.pop()\n",
    "print(best_move)"
   ]
  }
 ],
 "metadata": {
  "kernelspec": {
   "display_name": "Python 3 (ipykernel)",
   "language": "python",
   "name": "python3"
  },
  "language_info": {
   "codemirror_mode": {
    "name": "ipython",
    "version": 3
   },
   "file_extension": ".py",
   "mimetype": "text/x-python",
   "name": "python",
   "nbconvert_exporter": "python",
   "pygments_lexer": "ipython3",
   "version": "3.10.6"
  }
 },
 "nbformat": 4,
 "nbformat_minor": 5
}
