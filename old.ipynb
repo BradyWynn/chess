{
 "cells": [
  {
   "cell_type": "raw",
   "id": "81054546",
   "metadata": {},
   "source": [
    "https://www.ficsgames.org/download.html"
   ]
  },
  {
   "cell_type": "code",
   "execution_count": 1,
   "id": "92d51064",
   "metadata": {},
   "outputs": [],
   "source": [
    "import numpy as np\n",
    "import matplotlib.pyplot as plt\n",
    "from torch import nn\n",
    "import torch\n",
    "import chess.pgn\n",
    "from stockfish import Stockfish\n",
    "import sqlite3\n",
    "import chess\n",
    "import graphviz\n",
    "import chess.polyglot"
   ]
  },
  {
   "cell_type": "code",
   "execution_count": 2,
   "id": "7d9eef7b",
   "metadata": {},
   "outputs": [],
   "source": [
    "torch.cuda.set_device(0)\n",
    "device = torch.device('cuda')\n",
    "loss_function = nn.MSELoss()"
   ]
  },
  {
   "cell_type": "code",
   "execution_count": 3,
   "id": "db3e478d",
   "metadata": {},
   "outputs": [],
   "source": [
    "class Model(nn.Module):\n",
    "    def __init__(self):\n",
    "        super().__init__()\n",
    "        self.layers = nn.Sequential(\n",
    "            nn.Linear(64, 32),\n",
    "            nn.ReLU(),\n",
    "            nn.Linear(32, 32),\n",
    "            nn.ReLU(),\n",
    "            nn.Linear(32, 1),\n",
    "        )\n",
    "    def forward(self, x):\n",
    "        return self.layers(x)"
   ]
  },
  {
   "cell_type": "code",
   "execution_count": 4,
   "id": "ac1131f5",
   "metadata": {
    "scrolled": true
   },
   "outputs": [
    {
     "data": {
      "text/plain": [
       "Model(\n",
       "  (layers): Sequential(\n",
       "    (0): Linear(in_features=64, out_features=32, bias=True)\n",
       "    (1): ReLU()\n",
       "    (2): Linear(in_features=32, out_features=32, bias=True)\n",
       "    (3): ReLU()\n",
       "    (4): Linear(in_features=32, out_features=1, bias=True)\n",
       "  )\n",
       ")"
      ]
     },
     "execution_count": 4,
     "metadata": {},
     "output_type": "execute_result"
    }
   ],
   "source": [
    "model = Model()\n",
    "# model = torch.load(\"tiny.pt\")\n",
    "optimizer = torch.optim.Adam(model.parameters(), lr=1e-3)\n",
    "model.to(device)"
   ]
  },
  {
   "cell_type": "code",
   "execution_count": 7,
   "id": "d27e5972",
   "metadata": {},
   "outputs": [],
   "source": [
    "def fen_to_bitboard(fen):\n",
    "    f = torch.zeros((6, 64))\n",
    "    board = chess.Board(fen)\n",
    "    if board.turn == chess.WHITE:\n",
    "        a = 1\n",
    "        b = -1\n",
    "    if board.turn == chess.BLACK:\n",
    "        a = -1\n",
    "        b = 1\n",
    "    f[0][list(board.pieces(chess.PAWN, chess.WHITE))] = a\n",
    "    f[1][list(board.pieces(chess.KNIGHT, chess.WHITE))] = a\n",
    "    f[2][list(board.pieces(chess.ROOK, chess.WHITE))] = a\n",
    "    f[3][list(board.pieces(chess.BISHOP, chess.WHITE))] = a\n",
    "    f[4][list(board.pieces(chess.QUEEN, chess.WHITE))] = a\n",
    "    f[5][list(board.pieces(chess.KING, chess.WHITE))] = a\n",
    "    \n",
    "    f[0][list(board.pieces(chess.PAWN, chess.BLACK))] = b\n",
    "    f[1][list(board.pieces(chess.KNIGHT, chess.BLACK))] = b\n",
    "    f[2][list(board.pieces(chess.ROOK, chess.BLACK))] = b\n",
    "    f[3][list(board.pieces(chess.BISHOP, chess.BLACK))] = b\n",
    "    f[4][list(board.pieces(chess.QUEEN, chess.BLACK))] = b\n",
    "    f[5][list(board.pieces(chess.KING, chess.BLACK))] = b\n",
    "    \n",
    "    return f.view(1, 384)"
   ]
  },
  {
   "cell_type": "code",
   "execution_count": 3,
   "id": "97bc3d0e",
   "metadata": {},
   "outputs": [],
   "source": [
    "con = sqlite3.connect('test.db')\n",
    "cur = con.cursor()"
   ]
  },
  {
   "cell_type": "code",
   "execution_count": 9,
   "id": "8a313df0",
   "metadata": {},
   "outputs": [],
   "source": [
    "def fen_to_zobrist(fen):\n",
    "    f = torch.zeros(1, 64)\n",
    "    board = chess.Board(fen)\n",
    "    for i, val in enumerate(list('{0:0b}'.format(chess.polyglot.zobrist_hash(board)))):\n",
    "        if val == \"1\":\n",
    "            f[0][i] = 1\n",
    "    return f"
   ]
  },
  {
   "cell_type": "code",
   "execution_count": 12,
   "id": "8a5efee3",
   "metadata": {},
   "outputs": [],
   "source": [
    "size = 1000000\n",
    "# training dataset\n",
    "fens_ = cur.execute(f\"SELECT fen FROM evaluations LIMIT {size}\")\n",
    "fens = fens_.fetchall()\n",
    "board = chess.Board()\n",
    "tensors = []\n",
    "tensors = [fen_to_zobrist(fens[i][0]) for i in range(size)]\n",
    "bits = torch.cat(tensors, dim=0)\n",
    "with open('johnZobrist.npy', 'wb') as f:\n",
    "    np.save(f, bits)\n",
    "\n",
    "# evals_ = cur.execute(f\"SELECT eval FROM evaluations LIMIT {size}\")\n",
    "# evals = evals_.fetchall()\n",
    "# temp = [((np.arctan(1/2 * evals[i][0]) + np.pi/2)/(np.pi)) for i in range(size)]\n",
    "# evaluations = torch.tensor(temp, dtype=torch.float32)\n",
    "# with open('labels.npy', 'wb') as f:\n",
    "#     np.save(f, evaluations)\n",
    "\n",
    "\n",
    "# evaluation dataset\n",
    "# eval_size = 10000\n",
    "# e_fen_ = cur.execute(f\"SELECT fen FROM evaluations WHERE id > {size} LIMIT {eval_size}\")\n",
    "# e_fen = e_fen_.fetchall()\n",
    "# tensors = [fen_to_bitboard(e_fen[i][0]) for i in range(eval_size)]\n",
    "# bits = torch.cat(tensors, dim=0)\n",
    "# with open('eval_examples.npy', 'wb') as f:\n",
    "#     np.save(f, bits)\n",
    "\n",
    "# evaluation_ = cur.execute(f\"SELECT eval FROM evaluations WHERE id > {size} LIMIT {eval_size}\")\n",
    "# evaluation = evaluation_.fetchall()\n",
    "# temp = [((np.arctan(1/2 * evaluation[i][0]) + np.pi/2)/(np.pi)) for i in range(eval_size)]\n",
    "# evaluations = torch.tensor(temp)\n",
    "# with open('eval_labels.npy', 'wb') as f:\n",
    "#     np.save(f, evaluations)\n",
    "\n",
    "# plt.style.use('_mpl-gallery')\n",
    "\n",
    "# # make data\n",
    "# np.random.seed(1)\n",
    "\n",
    "# # plot:\n",
    "# fig, ax = plt.subplots()\n",
    "\n",
    "# ax.hist(x, bins=100, linewidth=0.5, edgecolor=\"white\")\n",
    "\n",
    "# ax.set(xlim=(-2, 2), xticks=np.arange(1, 1),\n",
    "#        ylim=(0, 1000), yticks=np.linspace(0, 1000, 9))\n",
    "\n",
    "# plt.show()"
   ]
  },
  {
   "cell_type": "code",
   "execution_count": 5,
   "id": "6dd4aa26",
   "metadata": {},
   "outputs": [],
   "source": [
    "losses = []\n",
    "# eval_losses = []\n",
    "\n",
    "bits = torch.from_numpy(np.load(\"johnZobrist.npy\")).to(device)\n",
    "labels = torch.from_numpy(np.load(\"labels.npy\")).to(device)\n",
    "\n",
    "# eval_examples = torch.from_numpy(np.load(\"eval_examples.npy\")).to(device)\n",
    "# eval_labels = torch.from_numpy(np.load(\"eval_labels.npy\")).to(device)"
   ]
  },
  {
   "cell_type": "code",
   "execution_count": 6,
   "id": "124093ea",
   "metadata": {
    "scrolled": false
   },
   "outputs": [],
   "source": [
    "# model training\n",
    "# https://stackoverflow.com/questions/45113245/how-to-get-mini-batches-in-pytorch-in-a-clean-and-efficient-way\n",
    "n_epochs = 100 # or whatever\n",
    "batch_size = 128 # or whatever\n",
    "\n",
    "for epoch in range(n_epochs):\n",
    "    # X is a torch Variable\n",
    "    permutation = torch.randperm(bits.size()[0])\n",
    "#     eval_permutation = torch.randperm(bits.size()[0])\n",
    "#     for i in range(0, eval_examples.size()[0], batch_size):\n",
    "#         indices = eval_permutation[i:i+batch_size]\n",
    "#         batch_x, batch_y = bits[indices], labels[indices]\n",
    "#         outputs = model(batch_x)\n",
    "        \n",
    "#         loss = loss_function(outputs, batch_y.view(-1, 1))\n",
    "#         eval_losses.append(loss.item())\n",
    "        \n",
    "    for i in range(0, bits.size()[0], batch_size):\n",
    "        optimizer.zero_grad()\n",
    "\n",
    "        indices = permutation[i:i+batch_size]\n",
    "        batch_x, batch_y = bits[indices], labels[indices]\n",
    "        \n",
    "        outputs = model(batch_x)\n",
    "        loss = loss_function(outputs, batch_y.view(-1, 1))\n",
    "        losses.append(loss.item())\n",
    "\n",
    "        loss.backward()\n",
    "        optimizer.step()"
   ]
  },
  {
   "cell_type": "code",
   "execution_count": 7,
   "id": "9d1e01b6",
   "metadata": {
    "scrolled": false
   },
   "outputs": [
    {
     "data": {
      "image/png": "[encoded data removed]",
      "text/plain": [
       "<Figure size 640x480 with 1 Axes>"
      ]
     },
     "metadata": {},
     "output_type": "display_data"
    }
   ],
   "source": [
    "start = 100\n",
    "smooth = 1\n",
    "\n",
    "x = np.arange(len(losses)/smooth)\n",
    "y = torch.tensor(losses).view(smooth, -1).mean(0)\n",
    "plt.plot(x[start:], y[start:])\n",
    "\n",
    "# e_x = np.arange(0, (len(eval_losses)/smooth) * 100, 100)\n",
    "# e_y = torch.tensor(eval_losses).view(smooth, -1).mean(0)\n",
    "# plt.plot(e_x[int(start/100):], e_y[int(start/100):])\n",
    "\n",
    "# plt.ylim(0, 0.005)\n",
    "plt.show()"
   ]
  },
  {
   "cell_type": "code",
   "execution_count": 8,
   "id": "efda34ef",
   "metadata": {},
   "outputs": [
    {
     "data": {
      "text/plain": [
       "0.10188327915966511"
      ]
     },
     "execution_count": 8,
     "metadata": {},
     "output_type": "execute_result"
    }
   ],
   "source": [
    "sum(losses[len(losses) - 100:]) / 100"
   ]
  },
  {
   "cell_type": "code",
   "execution_count": 124,
   "id": "c46178a8",
   "metadata": {},
   "outputs": [
    {
     "name": "stdout",
     "output_type": "stream",
     "text": [
      "[4, 3, 6, 4, 8, 8, 4, 6, 7, 6, 6, 7, 6, 6, 6, 6, 7, 6, 5, 6, 7, 7, 6, 6, 7, 7, 6, 7, 6, 5, 6, 7, 8, 7, 5, 7, 6, 7, 9, 6, 6, 5, 6, 4, 4, 4, 5, 6, 6, 3, 6, 7, 7, 2, 8, 5, 8, 5, 7, 6, 4, 9, 6, 6, 9, 6, 10, 5, 8, 7, 6, 7, 7, 10, 7, 6, 8, 6, 6, 5, 8, 6, 7, 4, 5, 6, 7, 8, 7, 10, 6, 7, 7, 6, 10, 6, 5, 7, 7, 5, 6, 6, 7, 6, 10, 6, 5, 6, 4, 5, 9, 3, 9, 7, 6, 6, 4, 7, 6, 6, 6, 3, 2, 0, 3, -1, 5, 6, 6, 7, 7, 7, 7, 5, 8, 6, 8, 6, 8, 8, 6, 6, 5, 8, 6, 6, 6, 7, 6, 8, 6, 8, 6, 7, 7, 9, 6, 6, 6, 9, 8, 6, 7, 8, 6, 8, 8, 8, 9, 7, 7, 5, 5, 5, 1, 4, 8, 8, 6, 5, 5, 8, 6, 9, 5, 8, 8, 3, 6, 4, 6, 5, 6, 9, 6, 5, 7, 7, 9, 7, 5, 6, 8, 7, 6, 5, 6, 7, 7, 7, 5, 6, 7, 7, 6, 9, 8, 8, 6, 7, 8, 7, 6, 8, 7, 7, 8, 8, 6, 6, 6, 5, 7, 9, 6, 5, 7, 5, 3, 5, 6, 4, 3, 5, 7, 10, 6, 6, 5, 3, 4, 2, 3, 2, 5, 4, 6, 7, 8, 7, 6, 9, 4, 5, 8, 9, 5, 6, 7, 7, 11, 6, 8, 6, 8, 6, 8, 9, 7, 5, 8, 8, 6, 8, 5, 7, 7, 7, 9, 7, 10, 8, 5, 6, 7, 5, 8, 6, 8, 8, 6, 7, 7, 9, 9, 7, 7, 6, 6, 3, 7, 5, 6, 5, 7, 3, 3, 4, 4, 5, 9, 5, 5, 6, 6, 8, 5, 6, 7, 7, 4, 6, 6, 6, 6, 5, 10, 5, 7, 6, 7, 7, 5, 6, 5, 9, 7, 7, 5, 6, 5, 6, 7, 9, 3, 5, 5, 9, 8, 8, 5, 0, 6, 8, 6, 7, 7, 7, 6, 9, 2, 7, 6, 6, 8, 8, 8, 6, 9, 6, 8, 9, 6, 12, 7, 6, 9, 8, 3, 4, 4, 3, 5, 6, 8, 7, 8, 6, 4, 6, 7, 6, 7, 8, 6, 7, 5, 4, 5, 6, 6, 7, 6, 6, 6, 6, 6, 6, 5, 6, 5, 7, 6, 7, 6, 6, 7, 7, 7, 7, 6, 6, 6, 7, 7, 6, 8, 6, 6, 6, 4, 5, 4, 3, 8, 7, 3, 3, 9, 8, 10, 12, 12, 15, 9, 8, 5, 4, 4, 10, 8, 7, 7, 7, 8, 7, 7, 5, 8, 10, 8, 5, 6, 4, 4, 6, 5, 6, 5, 6, 6, 9, 5, 7, 5, 6, 3, 5, 5, 7, 6, 6, 6, 6, 5, 5, 7, 10, 5, 7, 5, 6, 5, 5, 5, 7, 7, 7, 6, 8, 6, 7, 5, 8, 7, 10, 6, 8, 5, 7, 4, 6, 5, 6, 7, 7, 11, 6, 5, 5, 6, 7, 4, 6, 9, 7, 4, 6, 6, 8, 4, 6, 5, 5, 4, 5, 6, 6, 6, 6, 9, 5, 5, 4, 7, 5, 6, 5, 5, 7, 6, 5, 4, 7, 5, 4, 5, 7, 6, 7, 5, 5, 6, 6, 5, 5, 10, 6, 9, 11, 11, 15, 11, 12, 6, 5, 7, 9, 7, 5, 6, 3, 8, 3, 9, 7, 9, 8, 7, 6, 5, 5, 8, 6, 7, 6, 6, 4, 5, 6, 6, 6, 6, 3, 6, 6, 5, 4, 4, 7, 6, 5, 8, 4, 5, 6, 5, 6, 6, 6, 6, 6, 4, 6, 6, 4, 7, 6, 5, 6, 6, 7, 8, 9, 7, 7, 9, 5, 4, 3, 6, 5, 6, 9, 1, 5, 6, 7, 5, 8, 7, 9, 6, 6, 8, 4, 5, 6, 4, 5, 5, 7, 4, 7, 4, 4, 6, 6, 5, 4, 3, 5, 5, 4, 5, 5, 3, 4, 9, 7, 6, 5, 5, 2, 5, 7, 6, 8, 5, 6, 5, 5, 5, 3, 1, 7, 6, 4, 5, 4, 4, 3, 6, 4, 8, 6, 2, 4, 5, 5, 5, 6, 11, 5, 8, 7, 6, 5, 2, 6, 8, 6, 4, 4, 8, 7, 6, 7, 6, 5, 6, 4, 5, 5, 3, 8, 5, 6, 8, 7, 8, 5, 4, 5, 4, 6, 8, 8, 6, 6, 6, 7, 7, 5, 7, 4, 8, 7]\n"
     ]
    }
   ],
   "source": [
    "fen = \"8/8/8/KP1q1k2/P7/8/8/8 w - - 1 61\"\n",
    "a = fen_to_bitboard(fen)\n",
    "# print(model(a))\n",
    "w = list(model.parameters())[0][0]\n",
    "b = torch.tensor([0.5235], device=device)\n",
    "w1 = (torch.floor((w*90.2425267908)+6.7241))\n",
    "# relu = torch.nn.ReLU()\n",
    "L = []\n",
    "for i in w1.int():\n",
    "    L.append(i.item())\n",
    "print(L)\n",
    "# print(a @ w)\n",
    "# print(((a @ w1) - (6.7241 * torch.sum(a)))/90.2425267908)"
   ]
  },
  {
   "cell_type": "code",
   "execution_count": 119,
   "id": "778dd1ce",
   "metadata": {},
   "outputs": [
    {
     "data": {
      "text/plain": [
       "'1111'"
      ]
     },
     "execution_count": 119,
     "metadata": {},
     "output_type": "execute_result"
    }
   ],
   "source": [
    "'{0:04b}'.format(15)"
   ]
  },
  {
   "cell_type": "code",
   "execution_count": 126,
   "id": "9c6f636a",
   "metadata": {
    "scrolled": true
   },
   "outputs": [
    {
     "name": "stdout",
     "output_type": "stream",
     "text": [
      "[4856156134427813478, 3911521856006809191, 7244117474980292214, 5225415157427365733, 9819666223999645270, 9540706994317911399, 5077359319410169463, 7450772815724504950, 8531900609334769510, 7383201233389450855, 7450755291973903991, 8531620229325154166, 7378715153235605351, 7378978009512375926, 7383183709940705125, 7450474916793972310, 8527134226446247271, 7306939107173095032, 6230561272512210823, 7455259991647615093, 8603695424104531799, 8531918269705647478, 7383483799323498343, 7455276346918663801, 8603957108441311126, 8536105219094116710, 7450474989539006053, 8527135390366787158, 7306957729901733220, 6230859236170421828, 7460027410178991172, 8679974120606549061, 9752377413737923670, 8464086030130365798, 6298167966118991459, 8536967089356105270, 7464264913730823015, 8747774177435858551, 10837178323006875506, 7374156504724043560, 7306039633327387269, 6216169690980886616, 7224994687146427781, 4919450552085534807, 4924232538530350454, 5000744321647400804, 6224932851520206409, 7365205255775544470]\n"
     ]
    }
   ],
   "source": [
    "W = []\n",
    "for pog in range(48):\n",
    "    str = \"\"\n",
    "    for peepo in L[pog:pog+16]:\n",
    "        str += '{0:04b}'.format(peepo)\n",
    "#     print(str)\n",
    "    W.append(int(str, 2))\n",
    "print(W)"
   ]
  },
  {
   "cell_type": "code",
   "execution_count": 115,
   "id": "72b3c4f6",
   "metadata": {},
   "outputs": [
    {
     "data": {
      "text/plain": [
       "64"
      ]
     },
     "execution_count": 115,
     "metadata": {},
     "output_type": "execute_result"
    }
   ],
   "source": [
    "abd = '{0:064b}'.format(100000)\n",
    "len(abd)"
   ]
  },
  {
   "cell_type": "code",
   "execution_count": 16,
   "id": "8a69a342",
   "metadata": {},
   "outputs": [],
   "source": [
    "def evaluation(fen):\n",
    "    model.eval()\n",
    "    score  = model(fen_to_bitboard(fen).to(device))\n",
    "    model.train()\n",
    "    return score.item()"
   ]
  },
  {
   "cell_type": "code",
   "execution_count": 367,
   "id": "fc3bd93b",
   "metadata": {},
   "outputs": [],
   "source": [
    "class Node():\n",
    "    def __init__(self, fen, parent, color, move):\n",
    "        self.fen = fen\n",
    "        self.parent = parent\n",
    "        self.children = None\n",
    "        self.visits = 0\n",
    "        self.prior = 0\n",
    "        self.wins = 0\n",
    "        self.color = color\n",
    "        self.move = move"
   ]
  },
  {
   "cell_type": "code",
   "execution_count": 564,
   "id": "fd95db67",
   "metadata": {},
   "outputs": [],
   "source": [
    "def expand_node(node, color):\n",
    "    board = chess.Board(node.fen)\n",
    "    moves = list(board.legal_moves)\n",
    "    nodes = []\n",
    "    \n",
    "    tensors = []\n",
    "\n",
    "    for move in moves:\n",
    "        board.push(move)\n",
    "        n = Node(board.fen(), node, board.turn, move)\n",
    "        nodes.append(n)\n",
    "        tensors.append(fen_to_bitboard(n.fen).to(device))\n",
    "        board.pop()\n",
    "\n",
    "    node.children = nodes\n",
    "    \n",
    "    if len(node.children) > 0:\n",
    "        model.eval()\n",
    "        logits = model(torch.cat(tensors, dim=0))\n",
    "        \n",
    "        if color == node.color:\n",
    "            for i, child in enumerate(node.children):\n",
    "                child.prior = (1 - logits[i].item())\n",
    "            return float(1 - sum(logits) / len(logits))\n",
    "        else:\n",
    "            for i, child in enumerate(node.children):\n",
    "                child.prior = (logits[i].item())\n",
    "            return float(sum(logits) / len(logits))\n",
    "        model.train()\n",
    "\n",
    "def select_child(node):\n",
    "    best_node = None\n",
    "    \n",
    "    best = -np.inf\n",
    "    for child in node.children:\n",
    "        a = np.sqrt(2) * np.sqrt(node.visits) / (child.visits + 1)\n",
    "        if child.visits > 0:\n",
    "            val = (child.wins / child.visits) * 0.25 + a\n",
    "        else:\n",
    "            val = child.prior + a\n",
    "#         print(f\"{child.move} {child.visits} {child.prior:.3f} {child.wins:.3f} {val:.4f} {node.visits}\")\n",
    "        if val > best:\n",
    "            best = val\n",
    "            best_node = child\n",
    "    \n",
    "#     print(best_node.move)\n",
    "    return best_node\n",
    "\n",
    "def backpropagate(node, score, color):\n",
    "    while node is not None:\n",
    "        node.visits += 1\n",
    "        if color == node.color:\n",
    "            node.wins += score\n",
    "        else:\n",
    "            node.wins += (1 - score)\n",
    "        node = node.parent\n",
    "\n",
    "def search(board):\n",
    "    root = Node(board.fen(), None, board.turn, None)\n",
    "\n",
    "    for _ in range(100):\n",
    "        # Selection and expansion\n",
    "        current = root\n",
    "        while current.children is not None:\n",
    "            current = select_child(current)\n",
    "#         print()\n",
    "\n",
    "        if current.visits == 0:\n",
    "            # If the node has not been visited yet, expand it\n",
    "            score = expand_node(current, current.color)\n",
    "\n",
    "        # Simulation\n",
    "#         score = current.prior\n",
    "\n",
    "        # Backpropagation\n",
    "        backpropagate(current, score, current.color)\n",
    "\n",
    "    # Choose the best move based on visits\n",
    "    best_visits = -1\n",
    "    best_move = \"\"\n",
    "\n",
    "    for node in root.children:\n",
    "        print(f\"{node.move} {node.visits} {node.prior:.3f} {node.wins:.3f} {(node.wins/(node.visits+1)):.4f}\")\n",
    "        if node.visits > best_visits:\n",
    "            best_visits = node.visits\n",
    "            best_move = node.move\n",
    "    \n",
    "    return best_move"
   ]
  },
  {
   "cell_type": "code",
   "execution_count": 29,
   "id": "bd9d555f",
   "metadata": {},
   "outputs": [],
   "source": [
    "def minimax(board, depth, alpha, beta):\n",
    "    moves = list(board.legal_moves)\n",
    "    if depth == 1:\n",
    "        tensors = []\n",
    "        for m in moves:\n",
    "            board.push(m)\n",
    "            tensors.append(fen_to_bitboard(board.fen()).to(device))\n",
    "            board.pop()\n",
    "        model.eval()\n",
    "        logits = model(torch.cat(tensors, dim=0))\n",
    "        model.train()\n",
    "        if board.turn == chess.WHITE:\n",
    "            return torch.max(logits).item(), None\n",
    "        else:\n",
    "            return torch.min(logits).item(), None\n",
    "    if board.turn == chess.WHITE:\n",
    "        maxScore = -1000\n",
    "        best_move = None\n",
    "        for m in moves:\n",
    "            board.push(m)\n",
    "            score, _ = minimax(board, depth-1, alpha, beta)\n",
    "            if score > maxScore:\n",
    "                maxScore = score\n",
    "                best_move = m\n",
    "            board.pop()\n",
    "            alpha = max(alpha, score)\n",
    "            if beta <= alpha:\n",
    "                break\n",
    "        if depth < 4:\n",
    "            return maxScore, None\n",
    "        if depth == 4:\n",
    "            return maxScore, best_move\n",
    "    else:\n",
    "        minScore = 1000\n",
    "        best_move = None\n",
    "        for m in moves:\n",
    "            board.push(m)\n",
    "            score, _ = minimax(board, depth-1, alpha, beta)\n",
    "            if score < minScore:\n",
    "                minScore = score\n",
    "                best_move = m\n",
    "            board.pop()\n",
    "            beta = min(beta, score)\n",
    "            if beta <= alpha:\n",
    "                break\n",
    "        if depth < 4:\n",
    "            return minScore, None\n",
    "        if depth == 4:\n",
    "            return minScore, best_move"
   ]
  },
  {
   "cell_type": "code",
   "execution_count": 9,
   "id": "60b8154a",
   "metadata": {
    "scrolled": false
   },
   "outputs": [
    {
     "ename": "NameError",
     "evalue": "name 'minimax' is not defined",
     "output_type": "error",
     "traceback": [
      "\u001b[1;31m---------------------------------------------------------------------------\u001b[0m",
      "\u001b[1;31mNameError\u001b[0m                                 Traceback (most recent call last)",
      "Cell \u001b[1;32mIn [9], line 3\u001b[0m\n\u001b[0;32m      1\u001b[0m fen \u001b[38;5;241m=\u001b[39m \u001b[38;5;124m\"\u001b[39m\u001b[38;5;124mrnbqkbnr/ppp2ppp/3p4/4p3/2B1P3/5N2/PPPP1PPP/RNBQK2R b KQkq - 1 3\u001b[39m\u001b[38;5;124m\"\u001b[39m\n\u001b[0;32m      2\u001b[0m board \u001b[38;5;241m=\u001b[39m chess\u001b[38;5;241m.\u001b[39mBoard(fen)\n\u001b[1;32m----> 3\u001b[0m \u001b[38;5;28mprint\u001b[39m(\u001b[43mminimax\u001b[49m(board, \u001b[38;5;241m4\u001b[39m, \u001b[38;5;241m-\u001b[39m\u001b[38;5;241m1000000\u001b[39m, \u001b[38;5;241m1000000\u001b[39m))\n",
      "\u001b[1;31mNameError\u001b[0m: name 'minimax' is not defined"
     ]
    }
   ],
   "source": [
    "fen = \"rnbqkbnr/ppp2ppp/3p4/4p3/2B1P3/5N2/PPPP1PPP/RNBQK2R b KQkq - 1 3\"\n",
    "board = chess.Board(fen)\n",
    "print(minimax(board, 4, -1000000, 1000000))\n",
    "# search(board)"
   ]
  },
  {
   "cell_type": "code",
   "execution_count": 566,
   "id": "90eae826",
   "metadata": {
    "scrolled": false
   },
   "outputs": [
    {
     "name": "stdout",
     "output_type": "stream",
     "text": [
      "0.36009860038757324 f3g5\n",
      "0.39880311489105225 f3e5\n",
      "0.41336679458618164 f3h4\n",
      "0.679275631904602 f3d4\n",
      "0.5170760154724121 f3d2\n",
      "0.3821296989917755 f3g1\n",
      "0.5189962387084961 e3h6\n",
      "0.3573976159095764 e3g5\n",
      "0.6980736255645752 e3f4\n",
      "0.6879702210426331 e3d4\n",
      "0.5850046277046204 e3d2\n",
      "0.6079774498939514 e3c1\n",
      "0.8835353851318359 c3d5\n",
      "0.3856711983680725 c3b5\n",
      "0.38823044300079346 c3e4\n",
      "0.37508440017700195 c3a4\n",
      "0.4028940200805664 c3a2\n",
      "0.3687400817871094 c3b1\n",
      "0.34489989280700684 e2a6\n",
      "0.5000303983688354 e2b5\n",
      "0.5012979507446289 e2c4\n",
      "0.4644015431404114 e2d3\n",
      "0.5021283626556396 e2f1\n",
      "0.5338186025619507 h1g1\n",
      "0.5323711037635803 h1f1\n",
      "0.3749086856842041 e1d2\n",
      "0.49391883611679077 e1f1\n",
      "0.6326955556869507 d1d4\n",
      "0.4411325454711914 d1d3\n",
      "0.4910750091075897 d1d2\n",
      "0.5254561305046082 d1c1\n",
      "0.3629733622074127 d1b1\n",
      "0.36870014667510986 a1a7\n",
      "0.4447343051433563 a1a6\n",
      "0.4198334515094757 a1a5\n",
      "0.4984968304634094 a1a4\n",
      "0.5618143081665039 a1a3\n",
      "0.4077027440071106 a1a2\n",
      "0.4283556342124939 a1c1\n",
      "0.2905797064304352 a1b1\n",
      "0.5165847539901733 e1g1\n",
      "0.695253312587738 b4b5\n",
      "0.5001081824302673 h2h3\n",
      "0.45695823431015015 g2g3\n",
      "0.3310122489929199 b2b3\n",
      "0.4949791133403778 h2h4\n",
      "c3d5\n"
     ]
    }
   ],
   "source": [
    "# white\n",
    "fen = \"r3k2r/ppp1npp1/2n4p/3q4/1P1p2b1/2N1BN2/1PP1BPPP/R2QK2R w KQkq - 0 10\"\n",
    "board = chess.Board(fen)\n",
    "moves = list(board.legal_moves)\n",
    "\n",
    "scores = []\n",
    "best_score = -1000\n",
    "best_move = \"\"\n",
    "for m in moves:\n",
    "    board.push(m)\n",
    "    score = evaluation(board.fen())\n",
    "    scores.append(score)\n",
    "    print(str(score) + \" \" + str(m))\n",
    "    if score > best_score:\n",
    "        best_score = score\n",
    "        best_move = m\n",
    "    board.pop()\n",
    "print(best_move)\n",
    "# print(1 - sum(scores) / len(scores))"
   ]
  },
  {
   "cell_type": "code",
   "execution_count": 34,
   "id": "34d1cbd7",
   "metadata": {},
   "outputs": [
    {
     "name": "stdout",
     "output_type": "stream",
     "text": [
      "0.6951483488082886 g8h6\n",
      "0.5799509286880493 g8f6\n",
      "0.7104792594909668 e8d8\n",
      "0.8121510744094849 e8d7\n",
      "0.6309198141098022 c8d7\n",
      "0.6435866355895996 c8e6\n",
      "0.5963656902313232 c8f5\n",
      "0.6084449291229248 c8g4\n",
      "0.6480209827423096 c8h3\n",
      "0.6211286783218384 b8d7\n",
      "0.5628013610839844 b8c6\n",
      "0.6998346447944641 b8a6\n",
      "0.611965537071228 d5d8\n",
      "0.6078231334686279 d5d7\n",
      "0.6410329937934875 d5e6\n",
      "0.6085912585258484 d5d6\n",
      "0.6122064590454102 d5c6\n",
      "0.7057183384895325 d5h5\n",
      "0.6564360857009888 d5g5\n",
      "0.6354194283485413 d5f5\n",
      "0.6556663513183594 d5e5\n",
      "0.5990737676620483 d5c5\n",
      "0.6964358687400818 d5b5\n",
      "0.5899063348770142 d5a5\n",
      "0.6232746243476868 d5e4\n",
      "0.68147873878479 d5d4\n",
      "0.7502800226211548 d5c4\n",
      "0.7177431583404541 d5f3\n",
      "0.5269566178321838 d5d3\n",
      "0.783412754535675 d5b3\n",
      "0.24872024357318878 d5g2\n",
      "0.8101340532302856 d5d2\n",
      "0.6494318246841431 d5a2\n",
      "0.6381675004959106 h7h6\n",
      "0.6844656467437744 g7g6\n",
      "0.7280600070953369 f7f6\n",
      "0.5887013077735901 e7e6\n",
      "0.6348562240600586 c7c6\n",
      "0.7509093284606934 b7b6\n",
      "0.6354937553405762 a7a6\n",
      "0.7158689498901367 h7h5\n",
      "0.7126843929290771 g7g5\n",
      "0.7144161462783813 f7f5\n",
      "0.5819967985153198 e7e5\n",
      "0.5983148217201233 c7c5\n",
      "0.7447245717048645 b7b5\n",
      "0.6818445324897766 a7a5\n",
      "d5g2\n"
     ]
    }
   ],
   "source": [
    "# black\n",
    "fen = \"rnb1kbnr/ppp1pppp/8/3q4/8/2N5/PPPP1PPP/R1BQKBNR b KQkq - 1 3\"\n",
    "board = chess.Board(fen)\n",
    "moves = list(board.legal_moves)\n",
    "\n",
    "scores = []\n",
    "best_score = 1000\n",
    "best_move = \"\"\n",
    "for m in moves:\n",
    "    board.push(m)\n",
    "    score = evaluation(board.fen())\n",
    "    scores.append(score)\n",
    "    print(str(score) + \" \" + str(m))\n",
    "    if score < best_score:\n",
    "        best_score = score\n",
    "        best_move = m\n",
    "    board.pop()\n",
    "print(best_move)\n",
    "# print(1 - sum(scores) / len(scores))"
   ]
  },
  {
   "cell_type": "code",
   "execution_count": 227,
   "id": "07d95d53",
   "metadata": {},
   "outputs": [
    {
     "name": "stdout",
     "output_type": "stream",
     "text": [
      "0.971435546875\n"
     ]
    }
   ],
   "source": [
    "fen = \"8/8/8/p7/1k1r1PK1/1Np3P1/P1R5/8 w - - 0 65\"\n",
    "print(evaluation(fen))"
   ]
  },
  {
   "cell_type": "code",
   "execution_count": null,
   "id": "2ef413cd",
   "metadata": {},
   "outputs": [],
   "source": []
  }
 ],
 "metadata": {
  "kernelspec": {
   "display_name": "Python 3 (ipykernel)",
   "language": "python",
   "name": "python3"
  },
  "language_info": {
   "codemirror_mode": {
    "name": "ipython",
    "version": 3
   },
   "file_extension": ".py",
   "mimetype": "text/x-python",
   "name": "python",
   "nbconvert_exporter": "python",
   "pygments_lexer": "ipython3",
   "version": "3.10.6"
  }
 },
 "nbformat": 4,
 "nbformat_minor": 5
}
