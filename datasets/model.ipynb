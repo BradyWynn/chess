{
 "cells": [
  {
   "cell_type": "code",
   "execution_count": 6,
   "id": "1ddbd44d",
   "metadata": {},
   "outputs": [],
   "source": [
    "import numpy as np\n",
    "import torch\n",
    "import matplotlib.pyplot as plt"
   ]
  },
  {
   "cell_type": "code",
   "execution_count": 24,
   "id": "d07b9aba",
   "metadata": {},
   "outputs": [
    {
     "data": {
      "text/plain": [
       "<matplotlib.image.AxesImage at 0x1e5cfd63880>"
      ]
     },
     "execution_count": 24,
     "metadata": {},
     "output_type": "execute_result"
    },
    {
     "data": {
      "image/png": "[encoded data removed]",
      "text/plain": [
       "<Figure size 640x480 with 1 Axes>"
      ]
     },
     "metadata": {},
     "output_type": "display_data"
    }
   ],
   "source": [
    "a = torch.rand((8, 8), dtype=torch.float32)\n",
    "b = torch.rand((8, 8), dtype=torch.float32)\n",
    "plt.imshow(a)"
   ]
  },
  {
   "cell_type": "code",
   "execution_count": 32,
   "id": "47d9540f",
   "metadata": {
    "scrolled": false
   },
   "outputs": [
    {
     "name": "stdout",
     "output_type": "stream",
     "text": [
      "tensor([[2.4722, 2.3103, 2.0421, 2.5813],\n",
      "        [1.7409, 1.6036, 1.3043, 1.7564],\n",
      "        [1.8234, 1.4127, 1.8076, 2.0550],\n",
      "        [2.5017, 1.4631, 2.6238, 2.2677]])\n"
     ]
    }
   ],
   "source": [
    "print(a[:4, :4] @ b[:4, :4] + a[:4, 4:] @ b[4:, :4])"
   ]
  },
  {
   "cell_type": "code",
   "execution_count": 33,
   "id": "def6277b",
   "metadata": {
    "scrolled": true
   },
   "outputs": [
    {
     "name": "stdout",
     "output_type": "stream",
     "text": [
      "tensor([[1.7810, 2.5612, 2.2051, 1.7334],\n",
      "        [1.7098, 1.6547, 1.7699, 1.1955],\n",
      "        [1.5516, 2.5148, 1.6270, 1.2537],\n",
      "        [1.9118, 2.6723, 2.0101, 1.5156]])\n"
     ]
    }
   ],
   "source": [
    "print(a[:4, :4] @ b[:4, 4:] + a[:4, 4:] @ b[4:, 4:])"
   ]
  },
  {
   "cell_type": "code",
   "execution_count": 34,
   "id": "107da478",
   "metadata": {
    "scrolled": false
   },
   "outputs": [
    {
     "name": "stdout",
     "output_type": "stream",
     "text": [
      "tensor([[2.5714, 1.5013, 2.1316, 1.8660],\n",
      "        [2.0145, 2.0711, 2.2090, 2.5924],\n",
      "        [2.7107, 1.8030, 2.4015, 2.5223],\n",
      "        [2.9451, 2.3455, 3.1245, 2.6215]])\n"
     ]
    }
   ],
   "source": [
    "print(a[4:, :4] @ b[:4, :4] + a[4:, 4:] @ b[4:, :4])"
   ]
  },
  {
   "cell_type": "code",
   "execution_count": 35,
   "id": "f7ae2065",
   "metadata": {},
   "outputs": [
    {
     "name": "stdout",
     "output_type": "stream",
     "text": [
      "tensor([[1.8761, 2.6483, 2.3361, 1.4033],\n",
      "        [1.9886, 2.7908, 2.0193, 1.6753],\n",
      "        [1.9199, 3.2361, 2.3505, 1.6441],\n",
      "        [2.2384, 3.2948, 2.6609, 1.9396]])\n"
     ]
    }
   ],
   "source": [
    "print(a[4:, :4] @ b[:4, 4:] + a[4:, 4:] @ b[4:, 4:])"
   ]
  },
  {
   "cell_type": "code",
   "execution_count": 27,
   "id": "23577932",
   "metadata": {},
   "outputs": [
    {
     "name": "stdout",
     "output_type": "stream",
     "text": [
      "tensor([[2.4722, 2.3103, 2.0421, 2.5813, 1.7810, 2.5612, 2.2051, 1.7334],\n",
      "        [1.7409, 1.6036, 1.3043, 1.7564, 1.7098, 1.6547, 1.7699, 1.1955],\n",
      "        [1.8234, 1.4127, 1.8076, 2.0550, 1.5516, 2.5148, 1.6270, 1.2537],\n",
      "        [2.5017, 1.4631, 2.6238, 2.2677, 1.9118, 2.6723, 2.0101, 1.5156],\n",
      "        [2.5714, 1.5013, 2.1316, 1.8660, 1.8761, 2.6483, 2.3361, 1.4033],\n",
      "        [2.0145, 2.0711, 2.2090, 2.5924, 1.9886, 2.7908, 2.0193, 1.6753],\n",
      "        [2.7107, 1.8030, 2.4015, 2.5223, 1.9199, 3.2361, 2.3505, 1.6441],\n",
      "        [2.9451, 2.3455, 3.1245, 2.6215, 2.2384, 3.2948, 2.6609, 1.9396]])\n"
     ]
    }
   ],
   "source": [
    "print(a @ b)"
   ]
  }
 ],
 "metadata": {
  "kernelspec": {
   "display_name": "Python 3 (ipykernel)",
   "language": "python",
   "name": "python3"
  },
  "language_info": {
   "codemirror_mode": {
    "name": "ipython",
    "version": 3
   },
   "file_extension": ".py",
   "mimetype": "text/x-python",
   "name": "python",
   "nbconvert_exporter": "python",
   "pygments_lexer": "ipython3",
   "version": "3.10.6"
  }
 },
 "nbformat": 4,
 "nbformat_minor": 5
}
